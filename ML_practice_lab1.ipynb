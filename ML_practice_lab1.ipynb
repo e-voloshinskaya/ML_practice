{
  "cells": [
    {
      "cell_type": "markdown",
      "id": "03e8eeda",
      "metadata": {
        "id": "03e8eeda"
      },
      "source": [
        "# 100 numpy exercises"
      ]
    },
    {
      "cell_type": "markdown",
      "id": "70ce472e",
      "metadata": {
        "id": "70ce472e"
      },
      "source": [
        "This is a collection of exercises that have been collected in the numpy mailing list, on stack overflow and in the numpy documentation. The goal of this collection is to offer a quick reference for both old and new users but also to provide a set of exercises for those who teach."
      ]
    },
    {
      "cell_type": "markdown",
      "id": "00586da3",
      "metadata": {
        "id": "00586da3"
      },
      "source": [
        "1. Import the numpy package under the name np (★☆☆)"
      ]
    },
    {
      "cell_type": "code",
      "execution_count": null,
      "id": "233b14af",
      "metadata": {
        "id": "233b14af"
      },
      "outputs": [],
      "source": [
        "import numpy as np"
      ]
    },
    {
      "cell_type": "markdown",
      "id": "daf03394",
      "metadata": {
        "id": "daf03394"
      },
      "source": [
        "2. Print the numpy version and the configuration (★☆☆)"
      ]
    },
    {
      "cell_type": "code",
      "execution_count": null,
      "id": "bbc6a4af",
      "metadata": {
        "colab": {
          "base_uri": "https://localhost:8080/"
        },
        "id": "bbc6a4af",
        "outputId": "b3712e6d-394a-4b2b-9301-f145df30bb80"
      },
      "outputs": [
        {
          "output_type": "stream",
          "name": "stdout",
          "text": [
            "1.26.4\n",
            "Build Dependencies:\n",
            "  blas:\n",
            "    detection method: pkgconfig\n",
            "    found: true\n",
            "    include directory: /usr/local/include\n",
            "    lib directory: /usr/local/lib\n",
            "    name: openblas64\n",
            "    openblas configuration: USE_64BITINT=1 DYNAMIC_ARCH=1 DYNAMIC_OLDER= NO_CBLAS=\n",
            "      NO_LAPACK= NO_LAPACKE= NO_AFFINITY=1 USE_OPENMP= HASWELL MAX_THREADS=2\n",
            "    pc file directory: /usr/local/lib/pkgconfig\n",
            "    version: 0.3.23.dev\n",
            "  lapack:\n",
            "    detection method: internal\n",
            "    found: true\n",
            "    include directory: unknown\n",
            "    lib directory: unknown\n",
            "    name: dep139863411681952\n",
            "    openblas configuration: unknown\n",
            "    pc file directory: unknown\n",
            "    version: 1.26.4\n",
            "Compilers:\n",
            "  c:\n",
            "    args: -fno-strict-aliasing\n",
            "    commands: cc\n",
            "    linker: ld.bfd\n",
            "    linker args: -Wl,--strip-debug, -fno-strict-aliasing\n",
            "    name: gcc\n",
            "    version: 10.2.1\n",
            "  c++:\n",
            "    commands: c++\n",
            "    linker: ld.bfd\n",
            "    linker args: -Wl,--strip-debug\n",
            "    name: gcc\n",
            "    version: 10.2.1\n",
            "  cython:\n",
            "    commands: cython\n",
            "    linker: cython\n",
            "    name: cython\n",
            "    version: 3.0.8\n",
            "Machine Information:\n",
            "  build:\n",
            "    cpu: x86_64\n",
            "    endian: little\n",
            "    family: x86_64\n",
            "    system: linux\n",
            "  host:\n",
            "    cpu: x86_64\n",
            "    endian: little\n",
            "    family: x86_64\n",
            "    system: linux\n",
            "Python Information:\n",
            "  path: /opt/python/cp310-cp310/bin/python\n",
            "  version: '3.10'\n",
            "SIMD Extensions:\n",
            "  baseline:\n",
            "  - SSE\n",
            "  - SSE2\n",
            "  - SSE3\n",
            "  found:\n",
            "  - SSSE3\n",
            "  - SSE41\n",
            "  - POPCNT\n",
            "  - SSE42\n",
            "  - AVX\n",
            "  - F16C\n",
            "  - FMA3\n",
            "  - AVX2\n",
            "  not found:\n",
            "  - AVX512F\n",
            "  - AVX512CD\n",
            "  - AVX512_KNL\n",
            "  - AVX512_KNM\n",
            "  - AVX512_SKX\n",
            "  - AVX512_CLX\n",
            "  - AVX512_CNL\n",
            "  - AVX512_ICL\n",
            "\n"
          ]
        }
      ],
      "source": [
        "print(np.__version__)\n",
        "np.show_config()"
      ]
    },
    {
      "cell_type": "markdown",
      "id": "91a07614",
      "metadata": {
        "id": "91a07614"
      },
      "source": [
        "3. Create a null vector of size 10 (★☆☆)"
      ]
    },
    {
      "cell_type": "code",
      "execution_count": null,
      "id": "40c0b1e2",
      "metadata": {
        "id": "40c0b1e2",
        "outputId": "0b053f02-5aca-4c46-f8e4-6f9ef830d429"
      },
      "outputs": [
        {
          "name": "stdout",
          "output_type": "stream",
          "text": [
            "[0. 0. 0. 0. 0. 0. 0. 0. 0. 0.]\n"
          ]
        }
      ],
      "source": [
        "a = np.zeros(10)\n",
        "print(a)"
      ]
    },
    {
      "cell_type": "markdown",
      "id": "ac9f57c4",
      "metadata": {
        "id": "ac9f57c4"
      },
      "source": [
        "4. How to find the memory size of any array (★☆☆)"
      ]
    },
    {
      "cell_type": "code",
      "execution_count": null,
      "id": "4dfff837",
      "metadata": {
        "colab": {
          "base_uri": "https://localhost:8080/"
        },
        "id": "4dfff837",
        "outputId": "ac47f505-17fe-4a06-ab12-1f665de92544"
      },
      "outputs": [
        {
          "output_type": "stream",
          "name": "stdout",
          "text": [
            "Memory size of array:  128  bytes\n"
          ]
        }
      ],
      "source": [
        "arr = np.zeros((2, 8))\n",
        "\n",
        "# get the memory size of the array\n",
        "mem_size = arr.nbytes\n",
        "\n",
        "print(\"Memory size of array: \", mem_size, \" bytes\")"
      ]
    },
    {
      "cell_type": "markdown",
      "id": "e65bccc3",
      "metadata": {
        "id": "e65bccc3"
      },
      "source": [
        "5. How to get the documentation of the numpy add function from the command line? (★☆☆)"
      ]
    },
    {
      "cell_type": "code",
      "execution_count": null,
      "id": "f10c53aa",
      "metadata": {
        "id": "f10c53aa"
      },
      "outputs": [],
      "source": [
        "python -c \"import numpy; numpy.info(numpy.add)\""
      ]
    },
    {
      "cell_type": "markdown",
      "id": "13138c6b",
      "metadata": {
        "id": "13138c6b"
      },
      "source": [
        "6. Create a null vector of size 10 but the fifth value which is 1 (★☆☆)"
      ]
    },
    {
      "cell_type": "code",
      "execution_count": null,
      "id": "077d2dcd",
      "metadata": {
        "id": "077d2dcd",
        "outputId": "fe1eb8a0-ec40-40f4-d88d-7642f4162ef2"
      },
      "outputs": [
        {
          "name": "stdout",
          "output_type": "stream",
          "text": [
            "[0. 0. 0. 0. 1. 0. 0. 0. 0. 0.]\n"
          ]
        }
      ],
      "source": [
        "a = np.zeros(10)\n",
        "a[4] = 1\n",
        "print(a)"
      ]
    },
    {
      "cell_type": "markdown",
      "id": "81cedc5b",
      "metadata": {
        "id": "81cedc5b"
      },
      "source": [
        "7. Create a vector with values ranging from 10 to 49 (★☆☆)"
      ]
    },
    {
      "cell_type": "code",
      "execution_count": null,
      "id": "2d52a743",
      "metadata": {
        "id": "2d52a743",
        "outputId": "94ac6b38-d4cf-40d7-f8fe-629cf89eacff"
      },
      "outputs": [
        {
          "name": "stdout",
          "output_type": "stream",
          "text": [
            "[10 11 12 13 14 15 16 17 18 19 20 21 22 23 24 25 26 27 28 29 30 31 32 33\n",
            " 34 35 36 37 38 39 40 41 42 43 44 45 46 47 48 49]\n"
          ]
        }
      ],
      "source": [
        "a = np.arange(10, 50)\n",
        "print(a)"
      ]
    },
    {
      "cell_type": "markdown",
      "id": "2f73f52f",
      "metadata": {
        "id": "2f73f52f"
      },
      "source": [
        "8. Reverse a vector (first element becomes last) (★☆☆)"
      ]
    },
    {
      "cell_type": "code",
      "execution_count": null,
      "id": "5540b239",
      "metadata": {
        "id": "5540b239",
        "outputId": "f4ac6935-efa7-4d10-c841-2d178e195daf"
      },
      "outputs": [
        {
          "name": "stdout",
          "output_type": "stream",
          "text": [
            "[49 48 47 46 45 44 43 42 41 40 39 38 37 36 35 34 33 32 31 30 29 28 27 26\n",
            " 25 24 23 22 21 20 19 18 17 16 15 14 13 12 11 10]\n"
          ]
        }
      ],
      "source": [
        "print(a[::-1])"
      ]
    },
    {
      "cell_type": "markdown",
      "id": "9aaf9447",
      "metadata": {
        "id": "9aaf9447"
      },
      "source": [
        "9. Create a 3x3 matrix with values ranging from 0 to 8 (★☆☆)"
      ]
    },
    {
      "cell_type": "code",
      "execution_count": null,
      "id": "a6d66543",
      "metadata": {
        "id": "a6d66543",
        "outputId": "6ef5906a-d51a-41bc-da0e-af36811ab57e"
      },
      "outputs": [
        {
          "name": "stdout",
          "output_type": "stream",
          "text": [
            "[[0 1 2]\n",
            " [3 4 5]\n",
            " [6 7 8]]\n"
          ]
        }
      ],
      "source": [
        "print(np.arange(9).reshape(3, 3))"
      ]
    },
    {
      "cell_type": "markdown",
      "id": "183c53ff",
      "metadata": {
        "id": "183c53ff"
      },
      "source": [
        "10. Find indices of non-zero elements from [1,2,0,0,4,0] (★☆☆)"
      ]
    },
    {
      "cell_type": "code",
      "execution_count": null,
      "id": "9dfd3e5d",
      "metadata": {
        "id": "9dfd3e5d",
        "outputId": "c30e0973-1bff-481e-ebb6-773f87b52084"
      },
      "outputs": [
        {
          "name": "stdout",
          "output_type": "stream",
          "text": [
            "(array([0, 1, 4], dtype=int64),)\n"
          ]
        }
      ],
      "source": [
        "a = np.nonzero([1,2,0,0,4,0])\n",
        "print(a)"
      ]
    },
    {
      "cell_type": "markdown",
      "id": "bc032cb1",
      "metadata": {
        "id": "bc032cb1"
      },
      "source": [
        "11. Create a 3x3 identity matrix (★☆☆)"
      ]
    },
    {
      "cell_type": "code",
      "execution_count": null,
      "id": "a87e1980",
      "metadata": {
        "id": "a87e1980",
        "outputId": "d6f7f6d5-0690-4c05-c523-3c7acb338569"
      },
      "outputs": [
        {
          "name": "stdout",
          "output_type": "stream",
          "text": [
            "[[1. 0. 0.]\n",
            " [0. 1. 0.]\n",
            " [0. 0. 1.]]\n"
          ]
        }
      ],
      "source": [
        "a = np.eye(3)\n",
        "print(a)"
      ]
    },
    {
      "cell_type": "markdown",
      "id": "a6f27306",
      "metadata": {
        "id": "a6f27306"
      },
      "source": [
        "12. Create a 3x3x3 array with random values (★☆☆)"
      ]
    },
    {
      "cell_type": "code",
      "execution_count": null,
      "id": "1b2f1f3c",
      "metadata": {
        "colab": {
          "base_uri": "https://localhost:8080/"
        },
        "id": "1b2f1f3c",
        "outputId": "70b84157-fe07-48ee-f09e-33f881afec32"
      },
      "outputs": [
        {
          "output_type": "stream",
          "name": "stdout",
          "text": [
            "[[[0.30811241 0.81133569 0.1194702 ]\n",
            "  [0.72420233 0.72586089 0.25495986]\n",
            "  [0.68201515 0.98473366 0.33550153]]\n",
            "\n",
            " [[0.49634635 0.41149374 0.46840133]\n",
            "  [0.09794897 0.08598785 0.21743187]\n",
            "  [0.46400554 0.7725823  0.82725924]]\n",
            "\n",
            " [[0.97519616 0.10430378 0.515884  ]\n",
            "  [0.10599345 0.15214678 0.06360565]\n",
            "  [0.41445135 0.35847268 0.73058266]]]\n"
          ]
        }
      ],
      "source": [
        "a = np.random.random((3,3,3))\n",
        "print(a)"
      ]
    },
    {
      "cell_type": "markdown",
      "id": "1db9d796",
      "metadata": {
        "id": "1db9d796"
      },
      "source": [
        "13. Create a 10x10 array with random values and find the minimum and maximum values (★☆☆)"
      ]
    },
    {
      "cell_type": "code",
      "execution_count": null,
      "id": "2ff169fb",
      "metadata": {
        "colab": {
          "base_uri": "https://localhost:8080/"
        },
        "id": "2ff169fb",
        "outputId": "aa181429-a25a-4a7e-a26a-a9dff139952b"
      },
      "outputs": [
        {
          "output_type": "stream",
          "name": "stdout",
          "text": [
            "Minimum: 0.0009364116418607571\n",
            "Maximum: 0.977238766498956\n"
          ]
        }
      ],
      "source": [
        "a = np.random.random((10, 10))\n",
        "print(f'Minimum: {a.min()}')\n",
        "print(f'Maximum: {a.max()}')"
      ]
    },
    {
      "cell_type": "markdown",
      "id": "14af3ef2",
      "metadata": {
        "id": "14af3ef2"
      },
      "source": [
        "14. Create a random vector of size 30 and find the mean value (★☆☆)"
      ]
    },
    {
      "cell_type": "code",
      "execution_count": null,
      "id": "a066cfb6",
      "metadata": {
        "colab": {
          "base_uri": "https://localhost:8080/"
        },
        "id": "a066cfb6",
        "outputId": "035dd652-b5d9-403c-ea82-c1a986e3cfe3"
      },
      "outputs": [
        {
          "output_type": "stream",
          "name": "stdout",
          "text": [
            "\n",
            "Mean: 0.45716683431928834\n"
          ]
        }
      ],
      "source": [
        "a = np.random.random(30)\n",
        "print(f'\\nMean: {a.mean()}')"
      ]
    },
    {
      "cell_type": "markdown",
      "id": "fb6aefbb",
      "metadata": {
        "id": "fb6aefbb"
      },
      "source": [
        "15. Create a 2d array with 1 on the border and 0 inside (★☆☆)"
      ]
    },
    {
      "cell_type": "code",
      "execution_count": null,
      "id": "5358af96",
      "metadata": {
        "id": "5358af96",
        "outputId": "4d5cb861-e3fa-420f-f583-d9d37e460de4",
        "colab": {
          "base_uri": "https://localhost:8080/"
        }
      },
      "outputs": [
        {
          "output_type": "stream",
          "name": "stdout",
          "text": [
            "[[1. 1. 1. 1. 1. 1. 1. 1. 1. 1.]\n",
            " [1. 0. 0. 0. 0. 0. 0. 0. 0. 1.]\n",
            " [1. 0. 0. 0. 0. 0. 0. 0. 0. 1.]\n",
            " [1. 0. 0. 0. 0. 0. 0. 0. 0. 1.]\n",
            " [1. 0. 0. 0. 0. 0. 0. 0. 0. 1.]\n",
            " [1. 0. 0. 0. 0. 0. 0. 0. 0. 1.]\n",
            " [1. 0. 0. 0. 0. 0. 0. 0. 0. 1.]\n",
            " [1. 0. 0. 0. 0. 0. 0. 0. 0. 1.]\n",
            " [1. 0. 0. 0. 0. 0. 0. 0. 0. 1.]\n",
            " [1. 1. 1. 1. 1. 1. 1. 1. 1. 1.]]\n"
          ]
        }
      ],
      "source": [
        "a = np.zeros((10, 10))\n",
        "a[0:, 0] = 1  # first row\n",
        "a[0, 0:] = 1  # first column\n",
        "a[0:, -1] = 1  # last row\n",
        "a[-1, 0:] = 1  # last colummn\n",
        "print(a)"
      ]
    },
    {
      "cell_type": "code",
      "execution_count": null,
      "id": "f5e3d82f",
      "metadata": {
        "colab": {
          "base_uri": "https://localhost:8080/"
        },
        "id": "f5e3d82f",
        "outputId": "ae62bf5c-28de-48a6-8cd2-45b842ef1ceb"
      },
      "outputs": [
        {
          "output_type": "stream",
          "name": "stdout",
          "text": [
            "[[1. 1. 1. 1. 1. 1. 1. 1. 1. 1.]\n",
            " [1. 0. 0. 0. 0. 0. 0. 0. 0. 1.]\n",
            " [1. 0. 0. 0. 0. 0. 0. 0. 0. 1.]\n",
            " [1. 0. 0. 0. 0. 0. 0. 0. 0. 1.]\n",
            " [1. 0. 0. 0. 0. 0. 0. 0. 0. 1.]\n",
            " [1. 0. 0. 0. 0. 0. 0. 0. 0. 1.]\n",
            " [1. 0. 0. 0. 0. 0. 0. 0. 0. 1.]\n",
            " [1. 0. 0. 0. 0. 0. 0. 0. 0. 1.]\n",
            " [1. 0. 0. 0. 0. 0. 0. 0. 0. 1.]\n",
            " [1. 1. 1. 1. 1. 1. 1. 1. 1. 1.]]\n"
          ]
        }
      ],
      "source": [
        "a = np.ones((10,10))\n",
        "a[1:-1,1:-1] = 0  # elements of (9,9) matrix in the centre = 0\n",
        "print(a)"
      ]
    },
    {
      "cell_type": "markdown",
      "id": "e3d32f6a",
      "metadata": {
        "id": "e3d32f6a"
      },
      "source": [
        "16. How to add a border (filled with 0's) around an existing array? (★☆☆)"
      ]
    },
    {
      "cell_type": "code",
      "execution_count": null,
      "id": "32514264",
      "metadata": {
        "colab": {
          "base_uri": "https://localhost:8080/"
        },
        "id": "32514264",
        "outputId": "a44af617-b75b-43a4-b46c-3d1da192a615"
      },
      "outputs": [
        {
          "output_type": "stream",
          "name": "stdout",
          "text": [
            "[[0. 0. 0. 0. 0. 0. 0. 0.]\n",
            " [0. 1. 1. 1. 1. 1. 1. 0.]\n",
            " [0. 1. 1. 1. 1. 1. 1. 0.]\n",
            " [0. 1. 1. 1. 1. 1. 1. 0.]\n",
            " [0. 1. 1. 1. 1. 1. 1. 0.]\n",
            " [0. 1. 1. 1. 1. 1. 1. 0.]\n",
            " [0. 1. 1. 1. 1. 1. 1. 0.]\n",
            " [0. 1. 1. 1. 1. 1. 1. 0.]\n",
            " [0. 0. 0. 0. 0. 0. 0. 0.]]\n"
          ]
        }
      ],
      "source": [
        "a = np.ones((7,6))\n",
        "a = np.pad(a, pad_width = 1, mode = 'constant', constant_values = 0)\n",
        "print(a)"
      ]
    },
    {
      "cell_type": "markdown",
      "id": "643e65e2",
      "metadata": {
        "id": "643e65e2"
      },
      "source": [
        "17. What is the result of the following expression? (★☆☆)\n",
        "0 * np.nan\n",
        "np.nan == np.nan\n",
        "np.inf > np.nan\n",
        "np.nan - np.nan\n",
        "np.nan in set([np.nan])\n",
        "0.3 == 3 * 0.1"
      ]
    },
    {
      "cell_type": "code",
      "execution_count": null,
      "id": "132e14ea",
      "metadata": {
        "colab": {
          "base_uri": "https://localhost:8080/"
        },
        "id": "132e14ea",
        "outputId": "654d2686-c66e-45df-abbb-d15ee8fcdc02"
      },
      "outputs": [
        {
          "output_type": "stream",
          "name": "stdout",
          "text": [
            "nan\n",
            "False\n",
            "False\n",
            "nan\n",
            "True\n",
            "False\n"
          ]
        }
      ],
      "source": [
        "print(0 * np.nan)\n",
        "print(np.nan == np.nan)\n",
        "print(np.inf > np.nan)\n",
        "print(np.nan - np.nan)\n",
        "print(np.nan in set([np.nan]))\n",
        "print(0.3 == 3 * 0.1)"
      ]
    },
    {
      "cell_type": "markdown",
      "id": "a1d0db4f",
      "metadata": {
        "id": "a1d0db4f"
      },
      "source": [
        "18. Create a 5x5 matrix with values 1,2,3,4 just below the diagonal (★☆☆)"
      ]
    },
    {
      "cell_type": "code",
      "execution_count": null,
      "id": "dc4e7d95",
      "metadata": {
        "colab": {
          "base_uri": "https://localhost:8080/"
        },
        "id": "dc4e7d95",
        "outputId": "6bbd5f00-6792-404d-e82f-1dde6cf5e43e"
      },
      "outputs": [
        {
          "output_type": "stream",
          "name": "stdout",
          "text": [
            "[[0 0 0 0 0]\n",
            " [1 0 0 0 0]\n",
            " [0 2 0 0 0]\n",
            " [0 0 3 0 0]\n",
            " [0 0 0 4 0]]\n"
          ]
        }
      ],
      "source": [
        "print(np.diag(1 + np.arange(4),k = -1))"
      ]
    },
    {
      "cell_type": "markdown",
      "id": "e9af5749",
      "metadata": {
        "id": "e9af5749"
      },
      "source": [
        "19. Create a 8x8 matrix and fill it with a checkerboard pattern (★☆☆)"
      ]
    },
    {
      "cell_type": "code",
      "execution_count": null,
      "id": "a9aed603",
      "metadata": {
        "colab": {
          "base_uri": "https://localhost:8080/"
        },
        "id": "a9aed603",
        "outputId": "aca75d69-16bb-4ab4-be61-ac5e647a873a"
      },
      "outputs": [
        {
          "output_type": "stream",
          "name": "stdout",
          "text": [
            "[[0. 1. 0. 1. 0. 1. 0. 1.]\n",
            " [1. 0. 1. 0. 1. 0. 1. 0.]\n",
            " [0. 1. 0. 1. 0. 1. 0. 1.]\n",
            " [1. 0. 1. 0. 1. 0. 1. 0.]\n",
            " [0. 1. 0. 1. 0. 1. 0. 1.]\n",
            " [1. 0. 1. 0. 1. 0. 1. 0.]\n",
            " [0. 1. 0. 1. 0. 1. 0. 1.]\n",
            " [1. 0. 1. 0. 1. 0. 1. 0.]]\n"
          ]
        }
      ],
      "source": [
        "a = np.zeros((8, 8))\n",
        "a[1::2, ::2] = 1\n",
        "a[::2, 1::2] = 1\n",
        "print(a)"
      ]
    },
    {
      "cell_type": "markdown",
      "id": "d9cc95a6",
      "metadata": {
        "id": "d9cc95a6"
      },
      "source": [
        "20. Consider a (6,7,8) shape array, what is the index (x,y,z) of the 100th element? (★☆☆)"
      ]
    },
    {
      "cell_type": "code",
      "execution_count": null,
      "id": "90efa061",
      "metadata": {
        "colab": {
          "base_uri": "https://localhost:8080/"
        },
        "id": "90efa061",
        "outputId": "3f0d09bb-1879-4616-8cd6-9ff99264231a"
      },
      "outputs": [
        {
          "output_type": "stream",
          "name": "stdout",
          "text": [
            "(1, 5, 3)\n"
          ]
        }
      ],
      "source": [
        "print(np.unravel_index(99,(6,7,8)))"
      ]
    },
    {
      "cell_type": "markdown",
      "id": "e086be19",
      "metadata": {
        "id": "e086be19"
      },
      "source": [
        "21. Create a checkerboard 8x8 matrix using the tile function (★☆☆)"
      ]
    },
    {
      "cell_type": "code",
      "execution_count": null,
      "id": "b24faf0c",
      "metadata": {
        "colab": {
          "base_uri": "https://localhost:8080/"
        },
        "id": "b24faf0c",
        "outputId": "6022e4a2-28fd-4d1b-ea4c-8560be2fd0e2"
      },
      "outputs": [
        {
          "output_type": "stream",
          "name": "stdout",
          "text": [
            "[[1 0 1 0 1 0 1 0]\n",
            " [0 1 0 1 0 1 0 1]\n",
            " [1 0 1 0 1 0 1 0]\n",
            " [0 1 0 1 0 1 0 1]\n",
            " [1 0 1 0 1 0 1 0]\n",
            " [0 1 0 1 0 1 0 1]\n",
            " [1 0 1 0 1 0 1 0]\n",
            " [0 1 0 1 0 1 0 1]]\n"
          ]
        }
      ],
      "source": [
        "tile = np.array([[1, 0], [0, 1]])\n",
        "checkerboard = np.tile(tile, (4, 4))\n",
        "print(checkerboard)"
      ]
    },
    {
      "cell_type": "markdown",
      "id": "4921a4e9",
      "metadata": {
        "id": "4921a4e9"
      },
      "source": [
        "22. Normalize a 5x5 random matrix (★☆☆)"
      ]
    },
    {
      "cell_type": "code",
      "execution_count": null,
      "id": "f0f8c03b",
      "metadata": {
        "colab": {
          "base_uri": "https://localhost:8080/"
        },
        "id": "f0f8c03b",
        "outputId": "6eb3cf95-b783-4d63-f41c-af2f1fa67e0e"
      },
      "outputs": [
        {
          "output_type": "stream",
          "name": "stdout",
          "text": [
            "[[-0.97451232 -1.13726696 -0.63670514 -0.37173896 -1.54894874]\n",
            " [ 0.05396886  1.16221225  1.08798264 -1.9393442  -0.53901802]\n",
            " [-1.08657349 -0.29785728  0.10097457  1.22192335  1.07978867]\n",
            " [ 0.53780123 -0.09676237  1.17058648  0.50404712  0.02994095]\n",
            " [ 0.60362267  1.19719226  1.25110942  0.55033044 -1.92275344]]\n"
          ]
        }
      ],
      "source": [
        "matrix = np.random.rand(5, 5)\n",
        "mean = np.mean(matrix)\n",
        "std = np.std(matrix)\n",
        "\n",
        "normalized_matrix = (matrix - mean) / std\n",
        "\n",
        "print(normalized_matrix)"
      ]
    },
    {
      "cell_type": "markdown",
      "id": "12a761d1",
      "metadata": {
        "id": "12a761d1"
      },
      "source": [
        "23. Create a custom dtype that describes a color as four unsigned bytes (RGBA) (★☆☆)"
      ]
    },
    {
      "cell_type": "code",
      "execution_count": null,
      "id": "5a3a9a74",
      "metadata": {
        "id": "5a3a9a74"
      },
      "outputs": [],
      "source": [
        "dtype_rgba = np.dtype([\n",
        "    ('r', np.uint8),  # red component\n",
        "    ('g', np.uint8),  # green component\n",
        "    ('b', np.uint8),  # blue component\n",
        "    ('a', np.uint8)   # alpha component\n",
        "])"
      ]
    },
    {
      "cell_type": "markdown",
      "id": "ae1da0b9",
      "metadata": {
        "id": "ae1da0b9"
      },
      "source": [
        "24. Multiply a 5x3 matrix by a 3x2 matrix (real matrix product) (★☆☆)"
      ]
    },
    {
      "cell_type": "code",
      "execution_count": null,
      "id": "9e26f5df",
      "metadata": {
        "colab": {
          "base_uri": "https://localhost:8080/"
        },
        "id": "9e26f5df",
        "outputId": "b261b604-c502-40d8-c5ea-1b3447a044e4"
      },
      "outputs": [
        {
          "output_type": "stream",
          "name": "stdout",
          "text": [
            "[[1.33027835 1.42465568]\n",
            " [1.24364915 1.32308563]\n",
            " [1.56468214 1.63579276]\n",
            " [1.19876074 1.30643179]\n",
            " [0.16961356 0.18627211]]\n"
          ]
        }
      ],
      "source": [
        "a = np.random.random((5, 3))\n",
        "b = np.random.random((3, 2))\n",
        "print(np.dot(a, b))"
      ]
    },
    {
      "cell_type": "markdown",
      "id": "1d8e3f5f",
      "metadata": {
        "id": "1d8e3f5f"
      },
      "source": [
        "25. Given a 1D array, negate all elements which are between 3 and 8, in place. (★☆☆)"
      ]
    },
    {
      "cell_type": "code",
      "execution_count": null,
      "id": "c5698499",
      "metadata": {
        "colab": {
          "base_uri": "https://localhost:8080/"
        },
        "id": "c5698499",
        "outputId": "4be8960c-5ad0-44ae-fe7c-0ab18eb76f12"
      },
      "outputs": [
        {
          "output_type": "stream",
          "name": "stdout",
          "text": [
            "[ 0.92823924  0.67589824  0.40734595  0.50810977 -0.57819576 -0.08023839\n",
            " -0.74796804 -0.06533513  0.64708317  0.46114016]\n"
          ]
        }
      ],
      "source": [
        "a = np.random.random(10)\n",
        "a[4:8] = - a[4:8]\n",
        "print(a)"
      ]
    },
    {
      "cell_type": "markdown",
      "id": "7a2abcd1",
      "metadata": {
        "id": "7a2abcd1"
      },
      "source": [
        "26. What is the output of the following script? (★☆☆)\n",
        "// Author: Jake VanderPlas\n",
        "\n",
        "print(sum(range(5),-1))\n",
        "from numpy import *\n",
        "print(sum(range(5),-1))"
      ]
    },
    {
      "cell_type": "code",
      "execution_count": null,
      "id": "78340f8a",
      "metadata": {
        "colab": {
          "base_uri": "https://localhost:8080/"
        },
        "id": "78340f8a",
        "outputId": "18279101-07a7-4d6d-f98b-def9a7c54a25"
      },
      "outputs": [
        {
          "output_type": "stream",
          "name": "stdout",
          "text": [
            "9\n",
            "10\n"
          ]
        }
      ],
      "source": [
        "print(sum(range(5),-1))\n",
        "from numpy import *\n",
        "print(sum(range(5),-1))"
      ]
    },
    {
      "cell_type": "markdown",
      "id": "f06d1ed2",
      "metadata": {
        "id": "f06d1ed2"
      },
      "source": [
        "27. Consider an integer vector Z, which of these expressions are legal? (★☆☆)\n",
        "Z**Z\n",
        "2 << Z >> 2\n",
        "Z <- Z\n",
        "1j*Z\n",
        "Z/1/1\n",
        "Z<Z>Z"
      ]
    },
    {
      "cell_type": "code",
      "execution_count": null,
      "id": "ca55150c",
      "metadata": {
        "colab": {
          "base_uri": "https://localhost:8080/",
          "height": 219
        },
        "id": "ca55150c",
        "outputId": "cd5b6752-44da-481b-d4d5-dc019f95060c"
      },
      "outputs": [
        {
          "output_type": "error",
          "ename": "NameError",
          "evalue": "name 'Z' is not defined",
          "traceback": [
            "\u001b[0;31m---------------------------------------------------------------------------\u001b[0m",
            "\u001b[0;31mNameError\u001b[0m                                 Traceback (most recent call last)",
            "\u001b[0;32m<ipython-input-21-4e3654d03fce>\u001b[0m in \u001b[0;36m<cell line: 1>\u001b[0;34m()\u001b[0m\n\u001b[0;32m----> 1\u001b[0;31m \u001b[0mZ\u001b[0m\u001b[0;34m**\u001b[0m\u001b[0mZ\u001b[0m\u001b[0;34m\u001b[0m\u001b[0;34m\u001b[0m\u001b[0m\n\u001b[0m\u001b[1;32m      2\u001b[0m \u001b[0;36m2\u001b[0m \u001b[0;34m<<\u001b[0m \u001b[0mZ\u001b[0m \u001b[0;34m>>\u001b[0m \u001b[0;36m2\u001b[0m\u001b[0;34m\u001b[0m\u001b[0;34m\u001b[0m\u001b[0m\n\u001b[1;32m      3\u001b[0m \u001b[0mZ\u001b[0m \u001b[0;34m<\u001b[0m\u001b[0;34m-\u001b[0m \u001b[0mZ\u001b[0m\u001b[0;34m\u001b[0m\u001b[0;34m\u001b[0m\u001b[0m\n\u001b[1;32m      4\u001b[0m \u001b[0;36m1j\u001b[0m\u001b[0;34m*\u001b[0m\u001b[0mZ\u001b[0m\u001b[0;34m\u001b[0m\u001b[0;34m\u001b[0m\u001b[0m\n\u001b[1;32m      5\u001b[0m \u001b[0mZ\u001b[0m\u001b[0;34m/\u001b[0m\u001b[0;36m1\u001b[0m\u001b[0;34m/\u001b[0m\u001b[0;36m1\u001b[0m\u001b[0;34m\u001b[0m\u001b[0;34m\u001b[0m\u001b[0m\n",
            "\u001b[0;31mNameError\u001b[0m: name 'Z' is not defined"
          ]
        }
      ],
      "source": [
        "Z**Z\n",
        "2 << Z >> 2\n",
        "Z <- Z\n",
        "1j*Z\n",
        "Z/1/1\n",
        "Z<Z>Z"
      ]
    },
    {
      "cell_type": "markdown",
      "id": "c28db658",
      "metadata": {
        "id": "c28db658"
      },
      "source": [
        "28. What are the result of the following expressions? (★☆☆)\n",
        "np.array(0) / np.array(0)\n",
        "np.array(0) // np.array(0)\n",
        "np.array([np.nan]).astype(int).astype(float)"
      ]
    },
    {
      "cell_type": "code",
      "execution_count": null,
      "id": "9b2843e2",
      "metadata": {
        "colab": {
          "base_uri": "https://localhost:8080/"
        },
        "id": "9b2843e2",
        "outputId": "976f09a7-2d06-4656-81c3-a643a41f401f"
      },
      "outputs": [
        {
          "output_type": "stream",
          "name": "stdout",
          "text": [
            "nan\n",
            "0\n",
            "[-9.22337204e+18]\n"
          ]
        },
        {
          "output_type": "stream",
          "name": "stderr",
          "text": [
            "<ipython-input-23-2a10de0ee61b>:1: RuntimeWarning: invalid value encountered in divide\n",
            "  print(np.array(0) / np.array(0))\n",
            "<ipython-input-23-2a10de0ee61b>:2: RuntimeWarning: divide by zero encountered in floor_divide\n",
            "  print(np.array(0) // np.array(0))\n",
            "<ipython-input-23-2a10de0ee61b>:3: RuntimeWarning: invalid value encountered in cast\n",
            "  print(np.array([np.nan]).astype(int).astype(float))\n"
          ]
        }
      ],
      "source": [
        "print(np.array(0) / np.array(0))\n",
        "print(np.array(0) // np.array(0))\n",
        "print(np.array([np.nan]).astype(int).astype(float))"
      ]
    },
    {
      "cell_type": "markdown",
      "id": "f9da52d6",
      "metadata": {
        "id": "f9da52d6"
      },
      "source": [
        "29. How to round away from zero a float array ? (★☆☆)"
      ]
    },
    {
      "cell_type": "code",
      "execution_count": null,
      "id": "8ae15814",
      "metadata": {
        "colab": {
          "base_uri": "https://localhost:8080/"
        },
        "id": "8ae15814",
        "outputId": "c380aac3-8d26-4cf5-bf4f-0ef88a687d37"
      },
      "outputs": [
        {
          "output_type": "stream",
          "name": "stdout",
          "text": [
            "[-3. -2. -1.  1.  2.  3.]\n"
          ]
        }
      ],
      "source": [
        "a = np.array([-2.7, -1.5, -0.3, 0.3, 1.5, 2.7])\n",
        "a_rounded = np.copysign(np.ceil(np.abs(a)), a)\n",
        "print(a_rounded)"
      ]
    },
    {
      "cell_type": "markdown",
      "id": "d708b804",
      "metadata": {
        "id": "d708b804"
      },
      "source": [
        "30. How to find common values between two arrays? (★☆☆)"
      ]
    },
    {
      "cell_type": "code",
      "execution_count": null,
      "id": "ec7945a8",
      "metadata": {
        "colab": {
          "base_uri": "https://localhost:8080/"
        },
        "id": "ec7945a8",
        "outputId": "b5fba197-b68c-407c-d48e-6593a5d80066"
      },
      "outputs": [
        {
          "output_type": "stream",
          "name": "stdout",
          "text": [
            "[1 3]\n"
          ]
        }
      ],
      "source": [
        "print(np.intersect1d([1, 3, 4, 3], [3, 1, 2, 1]))"
      ]
    },
    {
      "cell_type": "markdown",
      "id": "5b865b20",
      "metadata": {
        "id": "5b865b20"
      },
      "source": [
        "31. How to ignore all numpy warnings (not recommended)? (★☆☆)"
      ]
    },
    {
      "cell_type": "code",
      "execution_count": null,
      "id": "26fc411d",
      "metadata": {
        "colab": {
          "base_uri": "https://localhost:8080/"
        },
        "id": "26fc411d",
        "outputId": "e5c5e37a-8a36-464e-c102-984691233b23"
      },
      "outputs": [
        {
          "output_type": "execute_result",
          "data": {
            "text/plain": [
              "{'divide': 'warn', 'over': 'warn', 'under': 'ignore', 'invalid': 'warn'}"
            ]
          },
          "metadata": {},
          "execution_count": 26
        }
      ],
      "source": [
        "np.seterr(all='ignore')"
      ]
    },
    {
      "cell_type": "markdown",
      "id": "22b7fd5c",
      "metadata": {
        "id": "22b7fd5c"
      },
      "source": [
        "32. Is the following expressions true? (★☆☆)\n",
        "np.sqrt(-1) == np.emath.sqrt(-1)"
      ]
    },
    {
      "cell_type": "code",
      "execution_count": null,
      "id": "f4293822",
      "metadata": {
        "colab": {
          "base_uri": "https://localhost:8080/"
        },
        "id": "f4293822",
        "outputId": "dca38b20-a7de-4406-c31e-7a409b797587"
      },
      "outputs": [
        {
          "output_type": "stream",
          "name": "stdout",
          "text": [
            "False\n"
          ]
        }
      ],
      "source": [
        "print(np.sqrt(-1) == np.emath.sqrt(-1))"
      ]
    },
    {
      "cell_type": "markdown",
      "id": "483337f5",
      "metadata": {
        "id": "483337f5"
      },
      "source": [
        "33. How to get the dates of yesterday, today and tomorrow? (★☆☆)"
      ]
    },
    {
      "cell_type": "code",
      "execution_count": null,
      "id": "c7405607",
      "metadata": {
        "id": "c7405607",
        "outputId": "8f7bf561-d232-43a0-9b66-32e71e1cbdb1"
      },
      "outputs": [
        {
          "name": "stdout",
          "output_type": "stream",
          "text": [
            "Yesterday's date: 2023-03-25\n",
            "Today's date: 2023-03-26\n",
            "Tomorrow's date: 2023-03-27\n"
          ]
        }
      ],
      "source": [
        "today = np.datetime64('today', 'D')\n",
        "\n",
        "yesterday = today - np.timedelta64(1, 'D')\n",
        "\n",
        "tomorrow = today + np.timedelta64(1, 'D')\n",
        "\n",
        "print(\"Yesterday's date:\", yesterday)\n",
        "print(\"Today's date:\", today)\n",
        "print(\"Tomorrow's date:\", tomorrow)"
      ]
    },
    {
      "cell_type": "markdown",
      "id": "85f07f7c",
      "metadata": {
        "id": "85f07f7c"
      },
      "source": [
        "34. How to get all the dates corresponding to the month of July 2016? (★★☆)"
      ]
    },
    {
      "cell_type": "code",
      "execution_count": null,
      "id": "0fdef5e1",
      "metadata": {
        "colab": {
          "base_uri": "https://localhost:8080/"
        },
        "id": "0fdef5e1",
        "outputId": "feb82926-75ce-4781-a76e-b88efbd80a07"
      },
      "outputs": [
        {
          "output_type": "stream",
          "name": "stdout",
          "text": [
            "['2016-07-01' '2016-07-02' '2016-07-03' '2016-07-04' '2016-07-05'\n",
            " '2016-07-06' '2016-07-07' '2016-07-08' '2016-07-09' '2016-07-10'\n",
            " '2016-07-11' '2016-07-12' '2016-07-13' '2016-07-14' '2016-07-15'\n",
            " '2016-07-16' '2016-07-17' '2016-07-18' '2016-07-19' '2016-07-20'\n",
            " '2016-07-21' '2016-07-22' '2016-07-23' '2016-07-24' '2016-07-25'\n",
            " '2016-07-26' '2016-07-27' '2016-07-28' '2016-07-29' '2016-07-30'\n",
            " '2016-07-31']\n"
          ]
        }
      ],
      "source": [
        "dates = np.arange(np.datetime64('2016-07-01'), np.datetime64('2016-08-01'), np.timedelta64(1, 'D'))\n",
        "\n",
        "print(dates)"
      ]
    },
    {
      "cell_type": "markdown",
      "id": "d60cb423",
      "metadata": {
        "id": "d60cb423"
      },
      "source": [
        "35. How to compute ((A+B)*(-A/2)) in place (without copy)? (★★☆)"
      ]
    },
    {
      "cell_type": "code",
      "execution_count": null,
      "id": "1d288671",
      "metadata": {
        "colab": {
          "base_uri": "https://localhost:8080/"
        },
        "id": "1d288671",
        "outputId": "145d4743-5222-41b7-8546-dfad928bbb61"
      },
      "outputs": [
        {
          "output_type": "execute_result",
          "data": {
            "text/plain": [
              "array([-1.5, -1.5, -1.5])"
            ]
          },
          "metadata": {},
          "execution_count": 29
        }
      ],
      "source": [
        "A = np.ones(3)*1\n",
        "B = np.ones(3)*2\n",
        "np.add(A,B,out=B)\n",
        "np.divide(A,2,out=A)\n",
        "np.negative(A,out=A)\n",
        "np.multiply(A,B,out=A)"
      ]
    },
    {
      "cell_type": "markdown",
      "id": "f4f0a481",
      "metadata": {
        "id": "f4f0a481"
      },
      "source": [
        "36. Extract the integer part of a random array of positive numbers using 4 different methods (★★☆)"
      ]
    },
    {
      "cell_type": "code",
      "execution_count": null,
      "id": "3217b86e",
      "metadata": {
        "colab": {
          "base_uri": "https://localhost:8080/"
        },
        "id": "3217b86e",
        "outputId": "d9aff13a-83a0-4f42-e439-49343bb44af8"
      },
      "outputs": [
        {
          "output_type": "stream",
          "name": "stdout",
          "text": [
            "[3. 5. 3. 0. 0.]\n",
            "[3. 5. 3. 0. 0.]\n",
            "[3 5 3 0 0]\n",
            "[3. 5. 3. 0. 0.]\n",
            "[3.51000995 5.05870451 3.11477945 0.93838008 0.34735327]\n"
          ]
        }
      ],
      "source": [
        "a = np.random.rand(5) * 10\n",
        "# Extract the integer part using numpy.floor()\n",
        "int_part1 = np.floor(a)\n",
        "print(int_part1)\n",
        "# Extract the integer part using numpy.trunc()\n",
        "int_part2 = np.trunc(a)\n",
        "print(int_part2)\n",
        "# Extract the integer part using numpy.astype()\n",
        "int_part3 = a.astype(int)\n",
        "print(int_part3)\n",
        "# Extract the integer part using the modulo operator\n",
        "int_part4 = a % 1\n",
        "print(a - int_part4)\n",
        "print(a)"
      ]
    },
    {
      "cell_type": "markdown",
      "id": "d1b26c7c",
      "metadata": {
        "id": "d1b26c7c"
      },
      "source": [
        "37. Create a 5x5 matrix with row values ranging from 0 to 4 (★★☆)"
      ]
    },
    {
      "cell_type": "code",
      "execution_count": null,
      "id": "2346c84a",
      "metadata": {
        "colab": {
          "base_uri": "https://localhost:8080/"
        },
        "id": "2346c84a",
        "outputId": "533e58d2-afde-4378-b1cb-9cba7501573c"
      },
      "outputs": [
        {
          "output_type": "stream",
          "name": "stdout",
          "text": [
            "[[0. 1. 2. 3. 4.]\n",
            " [0. 1. 2. 3. 4.]\n",
            " [0. 1. 2. 3. 4.]\n",
            " [0. 1. 2. 3. 4.]\n",
            " [0. 1. 2. 3. 4.]]\n"
          ]
        }
      ],
      "source": [
        "a = np.zeros((5, 5))\n",
        "a += np.arange(5)\n",
        "print(a)"
      ]
    },
    {
      "cell_type": "markdown",
      "id": "a302a019",
      "metadata": {
        "id": "a302a019"
      },
      "source": [
        "38. Consider a generator function that generates 10 integers and use it to build an array (★☆☆)"
      ]
    },
    {
      "cell_type": "code",
      "execution_count": null,
      "id": "76097b58",
      "metadata": {
        "colab": {
          "base_uri": "https://localhost:8080/"
        },
        "id": "76097b58",
        "outputId": "5d9f6bee-cb6f-4c14-a7bb-7f44f6ed0827"
      },
      "outputs": [
        {
          "output_type": "stream",
          "name": "stdout",
          "text": [
            "[0 1 2 3 4 5 6 7 8 9]\n"
          ]
        }
      ],
      "source": [
        "def my_generator():\n",
        "    for i in range(10):\n",
        "        yield i\n",
        "a = np.fromiter(my_generator(), dtype=int)\n",
        "\n",
        "print(a)"
      ]
    },
    {
      "cell_type": "markdown",
      "id": "398aa2c7",
      "metadata": {
        "id": "398aa2c7"
      },
      "source": [
        "39. Create a vector of size 10 with values ranging from 0 to 1, both excluded (★★☆)"
      ]
    },
    {
      "cell_type": "code",
      "execution_count": null,
      "id": "80de6c86",
      "metadata": {
        "colab": {
          "base_uri": "https://localhost:8080/"
        },
        "id": "80de6c86",
        "outputId": "492a906e-e2cf-4a86-d7cd-de4a55e7d452"
      },
      "outputs": [
        {
          "output_type": "stream",
          "name": "stdout",
          "text": [
            "[0.         0.11111111 0.22222222 0.33333333 0.44444444 0.55555556\n",
            " 0.66666667 0.77777778 0.88888889 1.        ]\n"
          ]
        }
      ],
      "source": [
        "a = linspace(0, 1, 10)\n",
        "print(a)"
      ]
    },
    {
      "cell_type": "markdown",
      "id": "4aba0238",
      "metadata": {
        "id": "4aba0238"
      },
      "source": [
        "40. Create a random vector of size 10 and sort it (★★☆)"
      ]
    },
    {
      "cell_type": "code",
      "execution_count": null,
      "id": "493c62e9",
      "metadata": {
        "colab": {
          "base_uri": "https://localhost:8080/"
        },
        "id": "493c62e9",
        "outputId": "87a50d89-53f9-4738-c193-51673d65514b"
      },
      "outputs": [
        {
          "output_type": "stream",
          "name": "stdout",
          "text": [
            "[0.05174998 0.08430219 0.18757653 0.19029654 0.23247308 0.28365626\n",
            " 0.29009654 0.54738391 0.61498858 0.81594635]\n"
          ]
        }
      ],
      "source": [
        "a = random.random(10)\n",
        "print(np.sort(a))"
      ]
    },
    {
      "cell_type": "markdown",
      "id": "c84d963f",
      "metadata": {
        "id": "c84d963f"
      },
      "source": [
        "41. How to sum a small array faster than np.sum? (★★☆)"
      ]
    },
    {
      "cell_type": "code",
      "execution_count": null,
      "id": "7c3c882c",
      "metadata": {
        "colab": {
          "base_uri": "https://localhost:8080/"
        },
        "id": "7c3c882c",
        "outputId": "069a9327-4afb-4118-fa7c-1f29d00e05cf"
      },
      "outputs": [
        {
          "output_type": "stream",
          "name": "stdout",
          "text": [
            "15\n"
          ]
        }
      ],
      "source": [
        "a = np.array([1, 2, 3, 4, 5])\n",
        "print(np.add.reduce(a))"
      ]
    },
    {
      "cell_type": "markdown",
      "id": "3ab4b280",
      "metadata": {
        "id": "3ab4b280"
      },
      "source": [
        "42. Consider two random array A and B, check if they are equal (★★☆)"
      ]
    },
    {
      "cell_type": "code",
      "execution_count": null,
      "id": "ee2bfae4",
      "metadata": {
        "colab": {
          "base_uri": "https://localhost:8080/"
        },
        "id": "ee2bfae4",
        "outputId": "c9d917df-24f0-491f-f5ce-024ca342c3a3"
      },
      "outputs": [
        {
          "output_type": "stream",
          "name": "stdout",
          "text": [
            "False\n"
          ]
        }
      ],
      "source": [
        "A = np.random.randint(0,2,7)\n",
        "B = np.random.randint(0,2,7)\n",
        "print(np.array_equal(A,B))"
      ]
    },
    {
      "cell_type": "markdown",
      "id": "0f652668",
      "metadata": {
        "id": "0f652668"
      },
      "source": [
        "43. Make an array immutable (read-only) (★★☆)"
      ]
    },
    {
      "cell_type": "code",
      "execution_count": null,
      "id": "155013dc",
      "metadata": {
        "colab": {
          "base_uri": "https://localhost:8080/",
          "height": 182
        },
        "id": "155013dc",
        "outputId": "fc8e51ec-ffc6-4677-a8e7-676c9412760b"
      },
      "outputs": [
        {
          "output_type": "error",
          "ename": "ValueError",
          "evalue": "assignment destination is read-only",
          "traceback": [
            "\u001b[0;31m---------------------------------------------------------------------------\u001b[0m",
            "\u001b[0;31mValueError\u001b[0m                                Traceback (most recent call last)",
            "\u001b[0;32m<ipython-input-38-8f82e700c236>\u001b[0m in \u001b[0;36m<cell line: 3>\u001b[0;34m()\u001b[0m\n\u001b[1;32m      1\u001b[0m \u001b[0ma\u001b[0m \u001b[0;34m=\u001b[0m \u001b[0mnp\u001b[0m\u001b[0;34m.\u001b[0m\u001b[0marray\u001b[0m\u001b[0;34m(\u001b[0m\u001b[0;34m[\u001b[0m\u001b[0;36m1\u001b[0m\u001b[0;34m,\u001b[0m \u001b[0;36m2\u001b[0m\u001b[0;34m,\u001b[0m \u001b[0;36m3\u001b[0m\u001b[0;34m,\u001b[0m \u001b[0;36m4\u001b[0m\u001b[0;34m,\u001b[0m \u001b[0;36m5\u001b[0m\u001b[0;34m]\u001b[0m\u001b[0;34m)\u001b[0m\u001b[0;34m\u001b[0m\u001b[0;34m\u001b[0m\u001b[0m\n\u001b[1;32m      2\u001b[0m \u001b[0ma\u001b[0m\u001b[0;34m.\u001b[0m\u001b[0mflags\u001b[0m\u001b[0;34m.\u001b[0m\u001b[0mwriteable\u001b[0m \u001b[0;34m=\u001b[0m \u001b[0;32mFalse\u001b[0m\u001b[0;34m\u001b[0m\u001b[0;34m\u001b[0m\u001b[0m\n\u001b[0;32m----> 3\u001b[0;31m \u001b[0ma\u001b[0m\u001b[0;34m[\u001b[0m\u001b[0;36m0\u001b[0m\u001b[0;34m]\u001b[0m \u001b[0;34m=\u001b[0m \u001b[0;36m10\u001b[0m\u001b[0;34m\u001b[0m\u001b[0;34m\u001b[0m\u001b[0m\n\u001b[0m",
            "\u001b[0;31mValueError\u001b[0m: assignment destination is read-only"
          ]
        }
      ],
      "source": [
        "a = np.array([1, 2, 3, 4, 5])\n",
        "a.flags.writeable = False\n",
        "a[0] = 10"
      ]
    },
    {
      "cell_type": "markdown",
      "id": "c909a057",
      "metadata": {
        "id": "c909a057"
      },
      "source": [
        "44. Consider a random 10x2 matrix representing cartesian coordinates, convert them to polar coordinates (★★☆)"
      ]
    },
    {
      "cell_type": "code",
      "execution_count": null,
      "id": "7474bd8b",
      "metadata": {
        "colab": {
          "base_uri": "https://localhost:8080/"
        },
        "id": "7474bd8b",
        "outputId": "7e314f79-ff9e-4d5b-aaa7-a54c226c092d"
      },
      "outputs": [
        {
          "output_type": "stream",
          "name": "stdout",
          "text": [
            "[[0.5443097  1.00383621]\n",
            " [0.32126115 1.45627679]\n",
            " [0.54694313 0.88397813]\n",
            " [0.95799662 0.94986336]\n",
            " [0.98697927 1.10072597]\n",
            " [1.25099731 0.82132519]\n",
            " [0.5802762  1.22508957]\n",
            " [0.70618692 0.33728707]\n",
            " [0.86295418 0.89880221]\n",
            " [1.1458694  0.65488269]]\n"
          ]
        }
      ],
      "source": [
        "a = np.random.random((10, 2))\n",
        "x, y = a[:, 0], a[:, 1]\n",
        "radius = np.sqrt(x**2 + y**2)\n",
        "angle = np.arctan2(y, x)\n",
        "polar = np.column_stack((radius, angle))\n",
        "print(polar)"
      ]
    },
    {
      "cell_type": "markdown",
      "id": "f626f6c9",
      "metadata": {
        "id": "f626f6c9"
      },
      "source": [
        "45. Create random vector of size 10 and replace the maximum value by 0 (★★☆)"
      ]
    },
    {
      "cell_type": "code",
      "execution_count": null,
      "id": "5fa58bcc",
      "metadata": {
        "colab": {
          "base_uri": "https://localhost:8080/"
        },
        "id": "5fa58bcc",
        "outputId": "63c2b87c-f0f2-4a87-d50a-cd36372162c1"
      },
      "outputs": [
        {
          "output_type": "stream",
          "name": "stdout",
          "text": [
            "[0.01337093 0.0016726  0.4629062  0.32821827 0.         0.20207853\n",
            " 0.07676234 0.67217422 0.03538459 0.72194416]\n"
          ]
        }
      ],
      "source": [
        "a = np.random.random(10)\n",
        "a[a.argmax()] = 0\n",
        "print(a)"
      ]
    },
    {
      "cell_type": "markdown",
      "id": "18417c83",
      "metadata": {
        "id": "18417c83"
      },
      "source": [
        "46. Create a structured array with x and y coordinates covering the [0,1]x[0,1] area (★★☆)"
      ]
    },
    {
      "cell_type": "code",
      "execution_count": null,
      "id": "0a4d4630",
      "metadata": {
        "colab": {
          "base_uri": "https://localhost:8080/"
        },
        "id": "0a4d4630",
        "outputId": "bfe5b185-3204-4677-ce90-3c5f7cfec3c2"
      },
      "outputs": [
        {
          "output_type": "stream",
          "name": "stdout",
          "text": [
            "[[0.   0.  ]\n",
            " [0.25 0.  ]\n",
            " [0.5  0.  ]\n",
            " [0.75 0.  ]\n",
            " [1.   0.  ]\n",
            " [0.   0.25]\n",
            " [0.25 0.25]\n",
            " [0.5  0.25]\n",
            " [0.75 0.25]\n",
            " [1.   0.25]\n",
            " [0.   0.5 ]\n",
            " [0.25 0.5 ]\n",
            " [0.5  0.5 ]\n",
            " [0.75 0.5 ]\n",
            " [1.   0.5 ]\n",
            " [0.   0.75]\n",
            " [0.25 0.75]\n",
            " [0.5  0.75]\n",
            " [0.75 0.75]\n",
            " [1.   0.75]\n",
            " [0.   1.  ]\n",
            " [0.25 1.  ]\n",
            " [0.5  1.  ]\n",
            " [0.75 1.  ]\n",
            " [1.   1.  ]]\n"
          ]
        }
      ],
      "source": [
        "x = np.linspace(0, 1, 5)\n",
        "y = np.linspace(0, 1, 5)\n",
        "X, Y = np.meshgrid(x, y)\n",
        "coords = np.column_stack((X.ravel(), Y.ravel()))\n",
        "print(coords)"
      ]
    },
    {
      "cell_type": "markdown",
      "id": "d46a82e0",
      "metadata": {
        "id": "d46a82e0"
      },
      "source": [
        "47. Given two arrays, X and Y, construct the Cauchy matrix C (Cij =1/(xi - yj)) (★★☆)"
      ]
    },
    {
      "cell_type": "code",
      "execution_count": null,
      "id": "0786d9ed",
      "metadata": {
        "colab": {
          "base_uri": "https://localhost:8080/"
        },
        "id": "0786d9ed",
        "outputId": "74412f7b-aa7f-4897-ade1-c0413d446beb"
      },
      "outputs": [
        {
          "output_type": "stream",
          "name": "stdout",
          "text": [
            "[[ 0  0  0]\n",
            " [ 0  0  0]\n",
            " [-1  0  0]]\n"
          ]
        }
      ],
      "source": [
        "X = np.array([1, 2, 3])\n",
        "Y = np.array([4, 5, 6])\n",
        "\n",
        "C = np.reciprocal(np.subtract.outer(X, Y))\n",
        "print(C)"
      ]
    },
    {
      "cell_type": "markdown",
      "id": "5fa32ccf",
      "metadata": {
        "id": "5fa32ccf"
      },
      "source": [
        "48. Print the minimum and maximum representable value for each numpy scalar type (★★☆)"
      ]
    },
    {
      "cell_type": "code",
      "execution_count": null,
      "id": "1f3f66ae",
      "metadata": {
        "colab": {
          "base_uri": "https://localhost:8080/"
        },
        "id": "1f3f66ae",
        "outputId": "faaab335-f773-4385-c3d6-a6a70aae483b"
      },
      "outputs": [
        {
          "output_type": "stream",
          "name": "stdout",
          "text": [
            "<class 'numpy.int8'>: min=-128, max=127\n",
            "<class 'numpy.int16'>: min=-32768, max=32767\n",
            "<class 'numpy.int32'>: min=-2147483648, max=2147483647\n",
            "<class 'numpy.int64'>: min=-9223372036854775808, max=9223372036854775807\n",
            "<class 'numpy.uint8'>: min=0, max=255\n",
            "<class 'numpy.uint16'>: min=0, max=65535\n",
            "<class 'numpy.uint32'>: min=0, max=4294967295\n",
            "<class 'numpy.uint64'>: min=0, max=18446744073709551615\n",
            "<class 'numpy.float16'>: min=-65504.0, max=65504.0\n",
            "<class 'numpy.float32'>: min=-3.4028234663852886e+38, max=3.4028234663852886e+38\n",
            "<class 'numpy.float64'>: min=-1.7976931348623157e+308, max=1.7976931348623157e+308\n",
            "<class 'numpy.complex64'>: min=-3.4028234663852886e+38, max=3.4028234663852886e+38\n",
            "<class 'numpy.complex128'>: min=-1.7976931348623157e+308, max=1.7976931348623157e+308\n"
          ]
        }
      ],
      "source": [
        "for dtype in [np.int8, np.int16, np.int32, np.int64]:\n",
        "    info = np.iinfo(dtype)\n",
        "    print(f'{dtype}: min={info.min}, max={info.max}')\n",
        "\n",
        "for dtype in [np.uint8, np.uint16, np.uint32, np.uint64]:\n",
        "    info = np.iinfo(dtype)\n",
        "    print(f'{dtype}: min={info.min}, max={info.max}')\n",
        "\n",
        "for dtype in [np.float16, np.float32, np.float64]:\n",
        "    info = np.finfo(dtype)\n",
        "    print(f'{dtype}: min={info.min}, max={info.max}')\n",
        "\n",
        "for dtype in [np.complex64, np.complex128]:\n",
        "    info = np.finfo(dtype)\n",
        "    print(f'{dtype}: min={info.min}, max={info.max}')"
      ]
    },
    {
      "cell_type": "markdown",
      "id": "fb29b011",
      "metadata": {
        "id": "fb29b011"
      },
      "source": [
        "49. How to print all the values of an array? (★★☆)"
      ]
    },
    {
      "cell_type": "code",
      "execution_count": null,
      "id": "183973d2",
      "metadata": {
        "colab": {
          "base_uri": "https://localhost:8080/"
        },
        "id": "183973d2",
        "outputId": "de027f72-e143-42ca-afb5-136b58afe39e"
      },
      "outputs": [
        {
          "output_type": "stream",
          "name": "stdout",
          "text": [
            "[[1 2]\n",
            " [3 4]\n",
            " [5 6]]\n"
          ]
        }
      ],
      "source": [
        "a = np.array([[1, 2], [3, 4], [5, 6]])\n",
        "print(a)"
      ]
    },
    {
      "cell_type": "markdown",
      "id": "a1e7eb80",
      "metadata": {
        "id": "a1e7eb80"
      },
      "source": [
        "50. How to find the closest value (to a given scalar) in a vector? (★★☆)"
      ]
    },
    {
      "cell_type": "code",
      "execution_count": null,
      "id": "3176fc16",
      "metadata": {
        "colab": {
          "base_uri": "https://localhost:8080/"
        },
        "id": "3176fc16",
        "outputId": "54873082-bc5b-4b4b-cfb5-ef7a362937b2"
      },
      "outputs": [
        {
          "output_type": "stream",
          "name": "stdout",
          "text": [
            "4\n"
          ]
        }
      ],
      "source": [
        "a = np.arange(20)\n",
        "x = 4.443\n",
        "index = np.abs(a - x).argmin()\n",
        "print(a[index])"
      ]
    },
    {
      "cell_type": "markdown",
      "id": "98d333d7",
      "metadata": {
        "id": "98d333d7"
      },
      "source": [
        "51. Create a structured array representing a position (x,y) and a color (r,g,b) (★★☆)"
      ]
    },
    {
      "cell_type": "code",
      "execution_count": null,
      "id": "637632f0",
      "metadata": {
        "colab": {
          "base_uri": "https://localhost:8080/"
        },
        "id": "637632f0",
        "outputId": "748584d5-7bad-4cd4-cdbe-0090b658ba07"
      },
      "outputs": [
        {
          "output_type": "stream",
          "name": "stdout",
          "text": [
            "[((1., 2.), (255,   0,   0)) ((3., 4.), (  0, 255,   0))\n",
            " ((5., 6.), (  0,   0, 255))]\n"
          ]
        }
      ],
      "source": [
        "pos_color_dtype = np.dtype([('position', [('x', float), ('y', float)]),\n",
        "                            ('color', [('r', int), ('g', int), ('b', int)])])\n",
        "\n",
        "arr = np.array([((1.0, 2.0), (255, 0, 0)),\n",
        "                ((3.0, 4.0), (0, 255, 0)),\n",
        "                ((5.0, 6.0), (0, 0, 255))], dtype=pos_color_dtype)\n",
        "\n",
        "print(arr)"
      ]
    },
    {
      "cell_type": "markdown",
      "id": "82184fc0",
      "metadata": {
        "id": "82184fc0"
      },
      "source": [
        "52. Consider a random vector with shape (100,2) representing coordinates, find point by point distances (★★☆)"
      ]
    },
    {
      "cell_type": "code",
      "execution_count": null,
      "id": "b80c7ff2",
      "metadata": {
        "colab": {
          "base_uri": "https://localhost:8080/"
        },
        "id": "b80c7ff2",
        "outputId": "ebb661a4-5f82-4e68-968a-b74d22dcd6df"
      },
      "outputs": [
        {
          "output_type": "stream",
          "name": "stdout",
          "text": [
            "[[0.         0.63126587 0.53862689 ... 0.87980041 0.54446003 0.49645604]\n",
            " [0.63126587 0.         0.44932313 ... 0.58562024 0.14041036 0.14216022]\n",
            " [0.53862689 0.44932313 0.         ... 0.99883986 0.50096457 0.35351132]\n",
            " ...\n",
            " [0.87980041 0.58562024 0.99883986 ... 0.         0.49824867 0.64574588]\n",
            " [0.54446003 0.14041036 0.50096457 ... 0.49824867 0.         0.14753687]\n",
            " [0.49645604 0.14216022 0.35351132 ... 0.64574588 0.14753687 0.        ]]\n"
          ]
        }
      ],
      "source": [
        "a = np.random.random((100, 2))\n",
        "distances = np.linalg.norm(a[:, np.newaxis, :] - a[np.newaxis, :, :], axis=-1)\n",
        "print(distances)"
      ]
    },
    {
      "cell_type": "markdown",
      "id": "7d48b840",
      "metadata": {
        "id": "7d48b840"
      },
      "source": [
        "53. How to convert a float (32 bits) array into an integer (32 bits) in place? (★★☆)\n"
      ]
    },
    {
      "cell_type": "code",
      "execution_count": null,
      "id": "936a51ab",
      "metadata": {
        "colab": {
          "base_uri": "https://localhost:8080/"
        },
        "id": "936a51ab",
        "outputId": "39b73323-7a2f-43e6-a215-003c37a8ba55"
      },
      "outputs": [
        {
          "output_type": "stream",
          "name": "stdout",
          "text": [
            "[1065023964 1072452705 1077267894 1066299943 1075838873 1079637349\n",
            " 1075884040 1061480956 1076327047 1079579796]\n"
          ]
        }
      ],
      "source": [
        "a = (np.random.rand(10)*5).astype(np.float32)\n",
        "int_a = a.view(np.int32)\n",
        "print(int_a)"
      ]
    },
    {
      "cell_type": "markdown",
      "id": "745ca6b3",
      "metadata": {
        "id": "745ca6b3"
      },
      "source": [
        "54. How to read the following file? (★★☆)\n",
        "1, 2, 3, 4, 5\n",
        "6,  ,  , 7, 8\n",
        " ,  , 9,10,11"
      ]
    },
    {
      "cell_type": "code",
      "execution_count": null,
      "id": "c82e4b18",
      "metadata": {
        "id": "c82e4b18"
      },
      "outputs": [],
      "source": [
        "data = np.genfromtxt('file.csv', delimiter=',', filling_values=np.nan)\n",
        "\n",
        "print(data)"
      ]
    },
    {
      "cell_type": "markdown",
      "id": "bda7013d",
      "metadata": {
        "id": "bda7013d"
      },
      "source": [
        "55. What is the equivalent of enumerate for numpy arrays? (★★☆)"
      ]
    },
    {
      "cell_type": "code",
      "execution_count": null,
      "id": "5087fa9e",
      "metadata": {
        "colab": {
          "base_uri": "https://localhost:8080/"
        },
        "id": "5087fa9e",
        "outputId": "7b92d46d-d3b4-4f0a-b756-02e08a47ef0e"
      },
      "outputs": [
        {
          "output_type": "stream",
          "name": "stdout",
          "text": [
            "(0, 0) 1\n",
            "(0, 1) 2\n",
            "(1, 0) 3\n",
            "(1, 1) 4\n"
          ]
        }
      ],
      "source": [
        "arr = np.array([[1, 2], [3, 4]])\n",
        "\n",
        "for index, value in np.ndenumerate(arr):\n",
        "    print(index, value)"
      ]
    },
    {
      "cell_type": "markdown",
      "id": "ad02bfc4",
      "metadata": {
        "id": "ad02bfc4"
      },
      "source": [
        "56. Generate a generic 2D Gaussian-like array (★★☆)\n"
      ]
    },
    {
      "cell_type": "code",
      "execution_count": null,
      "id": "5c05b354",
      "metadata": {
        "id": "5c05b354",
        "outputId": "23a588cd-f34f-4903-9a51-b1af5733938a"
      },
      "outputs": [
        {
          "name": "stdout",
          "output_type": "stream",
          "text": [
            "[[0.36787944 0.44822088 0.51979489 0.57375342 0.60279818 0.60279818\n",
            "  0.57375342 0.51979489 0.44822088 0.36787944]\n",
            " [0.44822088 0.54610814 0.63331324 0.69905581 0.73444367 0.73444367\n",
            "  0.69905581 0.63331324 0.54610814 0.44822088]\n",
            " [0.51979489 0.63331324 0.73444367 0.81068432 0.85172308 0.85172308\n",
            "  0.81068432 0.73444367 0.63331324 0.51979489]\n",
            " [0.57375342 0.69905581 0.81068432 0.89483932 0.9401382  0.9401382\n",
            "  0.89483932 0.81068432 0.69905581 0.57375342]\n",
            " [0.60279818 0.73444367 0.85172308 0.9401382  0.98773022 0.98773022\n",
            "  0.9401382  0.85172308 0.73444367 0.60279818]\n",
            " [0.60279818 0.73444367 0.85172308 0.9401382  0.98773022 0.98773022\n",
            "  0.9401382  0.85172308 0.73444367 0.60279818]\n",
            " [0.57375342 0.69905581 0.81068432 0.89483932 0.9401382  0.9401382\n",
            "  0.89483932 0.81068432 0.69905581 0.57375342]\n",
            " [0.51979489 0.63331324 0.73444367 0.81068432 0.85172308 0.85172308\n",
            "  0.81068432 0.73444367 0.63331324 0.51979489]\n",
            " [0.44822088 0.54610814 0.63331324 0.69905581 0.73444367 0.73444367\n",
            "  0.69905581 0.63331324 0.54610814 0.44822088]\n",
            " [0.36787944 0.44822088 0.51979489 0.57375342 0.60279818 0.60279818\n",
            "  0.57375342 0.51979489 0.44822088 0.36787944]]\n"
          ]
        }
      ],
      "source": [
        "X, Y = np.meshgrid(np.linspace(-1,1,10), np.linspace(-1,1,10))\n",
        "D = np.sqrt(X*X+Y*Y)\n",
        "sigma, mu = 1.0, 0.0\n",
        "G = np.exp(-( (D-mu)**2 / ( 2.0 * sigma**2 ) ) )\n",
        "print(G)"
      ]
    },
    {
      "cell_type": "markdown",
      "id": "31490a09",
      "metadata": {
        "id": "31490a09"
      },
      "source": [
        "57. How to randomly place p elements in a 2D array? (★★☆)"
      ]
    },
    {
      "cell_type": "code",
      "execution_count": null,
      "id": "3f430270",
      "metadata": {
        "colab": {
          "base_uri": "https://localhost:8080/"
        },
        "id": "3f430270",
        "outputId": "6fcc863b-8b85-4d7f-a169-c4a9ced4488a"
      },
      "outputs": [
        {
          "output_type": "stream",
          "name": "stdout",
          "text": [
            "[[0. 1. 1. 0. 0.]\n",
            " [0. 0. 0. 0. 0.]\n",
            " [0. 0. 0. 0. 1.]\n",
            " [0. 0. 1. 0. 1.]\n",
            " [0. 0. 0. 0. 0.]]\n"
          ]
        }
      ],
      "source": [
        "arr = np.zeros((5, 5))\n",
        "p = 5\n",
        "indices = np.random.randint(0, arr.size, p)\n",
        "arr.flat[indices] = 1\n",
        "print(arr)"
      ]
    },
    {
      "cell_type": "markdown",
      "id": "b8d69822",
      "metadata": {
        "id": "b8d69822"
      },
      "source": [
        "58. Subtract the mean of each row of a matrix (★★☆)"
      ]
    },
    {
      "cell_type": "code",
      "execution_count": null,
      "id": "f135f59c",
      "metadata": {
        "id": "f135f59c",
        "outputId": "f4f8a2d4-5bd9-4f2e-eca3-e9c05a31d39a"
      },
      "outputs": [
        {
          "name": "stdout",
          "output_type": "stream",
          "text": [
            "[[-1.  0.  1.]\n",
            " [-1.  0.  1.]\n",
            " [-1.  0.  1.]]\n"
          ]
        }
      ],
      "source": [
        "A = np.array([[1, 2, 3],\n",
        "              [4, 5, 6],\n",
        "              [7, 8, 9]])\n",
        "a = A - A.mean(axis = 1).reshape(-1, 1)\n",
        "print(a)"
      ]
    },
    {
      "cell_type": "markdown",
      "id": "a985fc95",
      "metadata": {
        "id": "a985fc95"
      },
      "source": [
        "59. How to sort an array by the nth column? (★★☆)"
      ]
    },
    {
      "cell_type": "code",
      "execution_count": null,
      "id": "012667c8",
      "metadata": {
        "colab": {
          "base_uri": "https://localhost:8080/"
        },
        "id": "012667c8",
        "outputId": "7c8b952a-2674-4855-c3bd-fc198adc2d8e"
      },
      "outputs": [
        {
          "output_type": "stream",
          "name": "stdout",
          "text": [
            "[[5 7 9]\n",
            " [9 8 1]\n",
            " [6 2 4]]\n",
            "[[6 2 4]\n",
            " [5 7 9]\n",
            " [9 8 1]]\n"
          ]
        }
      ],
      "source": [
        "A = np.random.randint(0,10,(3,3))\n",
        "print(A)\n",
        "print(A[A[:,1].argsort()])"
      ]
    },
    {
      "cell_type": "markdown",
      "id": "7e807593",
      "metadata": {
        "id": "7e807593"
      },
      "source": [
        "60. How to tell if a given 2D array has null columns? (★★☆)"
      ]
    },
    {
      "cell_type": "code",
      "execution_count": null,
      "id": "72629f6c",
      "metadata": {
        "id": "72629f6c",
        "outputId": "b62b58e6-c988-4e8b-8beb-7b6ab7b22c30"
      },
      "outputs": [
        {
          "name": "stdout",
          "output_type": "stream",
          "text": [
            "[ True  True  True]\n"
          ]
        }
      ],
      "source": [
        "arr = np.array([[1, 2, 3], [0, 0, 0], [4, 5, 6]])\n",
        "# check for null columns\n",
        "null_cols = np.any(arr == 0, axis=0)\n",
        "print(null_cols)"
      ]
    },
    {
      "cell_type": "markdown",
      "id": "f2a59a6e",
      "metadata": {
        "id": "f2a59a6e"
      },
      "source": [
        "61. Find the nearest value from a given value in an array (★★☆)"
      ]
    },
    {
      "cell_type": "code",
      "execution_count": null,
      "id": "cc22f5ae",
      "metadata": {
        "id": "cc22f5ae",
        "outputId": "ad197fe4-7086-4596-f4ae-18d22b0472ff"
      },
      "outputs": [
        {
          "name": "stdout",
          "output_type": "stream",
          "text": [
            "2.928571428571429\n"
          ]
        }
      ],
      "source": [
        "def nearest_value(a, v):\n",
        "    i = (np.abs(a - v).argmin())\n",
        "    return a[i]\n",
        "a = np.linspace(1, 10, 15)\n",
        "v = 3\n",
        "print(nearest_value(a, v))"
      ]
    },
    {
      "cell_type": "markdown",
      "id": "8681a98f",
      "metadata": {
        "id": "8681a98f"
      },
      "source": [
        "62. Considering two arrays with shape (1,3) and (3,1), how to compute their sum using an iterator? (★★☆)"
      ]
    },
    {
      "cell_type": "code",
      "execution_count": null,
      "id": "7f082bce",
      "metadata": {
        "colab": {
          "base_uri": "https://localhost:8080/"
        },
        "id": "7f082bce",
        "outputId": "26dd2865-9195-4a20-9727-e2d1c58cd80b"
      },
      "outputs": [
        {
          "output_type": "stream",
          "name": "stdout",
          "text": [
            "[1.80472849 2.27780772 1.88156966]\n"
          ]
        }
      ],
      "source": [
        "a = np.random.random((1, 3))\n",
        "b = np.random.random((3, 1))\n",
        "it = np.nditer([a, b], flags=['external_loop'], op_flags=[['readonly'], ['readonly']])\n",
        "sum = 0\n",
        "for a, b in it:\n",
        "    sum += a + b\n",
        "print(sum)"
      ]
    },
    {
      "cell_type": "markdown",
      "id": "205c30c8",
      "metadata": {
        "id": "205c30c8"
      },
      "source": [
        "63. Create an array class that has a name attribute (★★☆)"
      ]
    },
    {
      "cell_type": "code",
      "execution_count": null,
      "id": "8a3dac6c",
      "metadata": {
        "id": "8a3dac6c",
        "outputId": "6070aa40-01bc-47ba-e1c7-42233c2e1863"
      },
      "outputs": [
        {
          "name": "stdout",
          "output_type": "stream",
          "text": [
            "range_10\n"
          ]
        }
      ],
      "source": [
        "class NamedArray(np.ndarray):\n",
        "    def __new__(cls, input_array, name=\"unnamed\"):\n",
        "        obj = np.asarray(input_array).view(cls)\n",
        "        obj.name = name\n",
        "        return obj\n",
        "\n",
        "    def __array_finalize__(self, obj):\n",
        "        if obj is None: return\n",
        "        self.name = getattr(obj, 'name', 'unnamed')\n",
        "a = NamedArray(np.arange(10), \"range_10\")\n",
        "print (a.name)"
      ]
    },
    {
      "cell_type": "markdown",
      "id": "e29a1865",
      "metadata": {
        "id": "e29a1865"
      },
      "source": [
        "64. Consider a given vector, how to add 1 to each element indexed by a second vector (be careful with repeated indices)? (★★★)"
      ]
    },
    {
      "cell_type": "code",
      "execution_count": null,
      "id": "194cdb26",
      "metadata": {
        "colab": {
          "base_uri": "https://localhost:8080/"
        },
        "id": "194cdb26",
        "outputId": "34ec5522-1b38-4d95-b745-ecc7d16cafb1"
      },
      "outputs": [
        {
          "output_type": "stream",
          "name": "stdout",
          "text": [
            "[2 1 3 5 4 3 4 4 5 5]\n"
          ]
        }
      ],
      "source": [
        "a = np.array([1, 1, 2, 3, 3, 3, 4, 4, 5, 5])\n",
        "ind = np.array([0, 2, 3, 3, 4])\n",
        "np.add.at(a, ind, 1)\n",
        "\n",
        "print(a)"
      ]
    },
    {
      "cell_type": "markdown",
      "id": "4193ddd7",
      "metadata": {
        "id": "4193ddd7"
      },
      "source": [
        "65. How to accumulate elements of a vector (X) to an array (F) based on an index list (I)? (★★★)"
      ]
    },
    {
      "cell_type": "code",
      "execution_count": null,
      "id": "99b2a3d5",
      "metadata": {
        "id": "99b2a3d5",
        "outputId": "4de0b0ca-5cea-4a1d-f0d8-f954bf715b61"
      },
      "outputs": [
        {
          "name": "stdout",
          "output_type": "stream",
          "text": [
            "[5. 7. 3.]\n"
          ]
        }
      ],
      "source": [
        "X = np.array([1, 2, 3, 4, 5])\n",
        "I = np.array([0, 1, 2, 0, 1])\n",
        "F = np.zeros(3)\n",
        "\n",
        "np.add.at(F, I, X)\n",
        "\n",
        "print(F)"
      ]
    },
    {
      "cell_type": "markdown",
      "id": "6bffbf3c",
      "metadata": {
        "id": "6bffbf3c"
      },
      "source": [
        "66. Considering a (w,h,3) image of (dtype=ubyte), compute the number of unique colors (★★☆)"
      ]
    },
    {
      "cell_type": "code",
      "execution_count": null,
      "id": "5e7080b1",
      "metadata": {
        "colab": {
          "base_uri": "https://localhost:8080/"
        },
        "id": "5e7080b1",
        "outputId": "3923e3d8-8c75-4b3c-e6ef-1d11d7c52e26"
      },
      "outputs": [
        {
          "output_type": "stream",
          "name": "stdout",
          "text": [
            "Number of unique colors: 9996\n"
          ]
        }
      ],
      "source": [
        "img = np.random.randint(0, 256, size=(100, 100, 3), dtype=np.uint8)\n",
        "\n",
        "img_2d = img.reshape((img.shape[0] * img.shape[1], 3))\n",
        "\n",
        "unique_colors = np.unique(img_2d, axis=0)\n",
        "\n",
        "num_unique_colors = len(unique_colors)\n",
        "\n",
        "print(\"Number of unique colors:\", num_unique_colors)"
      ]
    },
    {
      "cell_type": "markdown",
      "id": "c9072219",
      "metadata": {
        "id": "c9072219"
      },
      "source": [
        "67. Considering a four dimensions array, how to get sum over the last two axis at once? (★★★)"
      ]
    },
    {
      "cell_type": "code",
      "execution_count": null,
      "id": "70c9aa3f",
      "metadata": {
        "colab": {
          "base_uri": "https://localhost:8080/"
        },
        "id": "70c9aa3f",
        "outputId": "79c0cce6-bc3e-4cf6-c749-dd1627cee76d"
      },
      "outputs": [
        {
          "output_type": "stream",
          "name": "stdout",
          "text": [
            "(2, 3)\n"
          ]
        }
      ],
      "source": [
        "arr = np.random.rand(2, 3, 4, 5)\n",
        "\n",
        "sum_last_two = np.sum(arr, axis=(-2, -1))\n",
        "\n",
        "print(sum_last_two.shape)"
      ]
    },
    {
      "cell_type": "markdown",
      "id": "d7644355",
      "metadata": {
        "id": "d7644355"
      },
      "source": [
        "68. Considering a one-dimensional vector D, how to compute means of subsets of D using a vector S of same size describing subset indices? (★★★)"
      ]
    },
    {
      "cell_type": "code",
      "execution_count": null,
      "id": "8725f4cb",
      "metadata": {
        "colab": {
          "base_uri": "https://localhost:8080/"
        },
        "id": "8725f4cb",
        "outputId": "841ad317-2938-4816-9bcc-08a6045f0d08"
      },
      "outputs": [
        {
          "output_type": "stream",
          "name": "stdout",
          "text": [
            "[0.63683268 0.37397521 0.38437833]\n"
          ]
        }
      ],
      "source": [
        "D = np.random.rand(10)\n",
        "S = np.random.randint(0, 3, size=10)\n",
        "\n",
        "count = np.bincount(S, minlength=np.max(S)+1)\n",
        "sums = np.bincount(S, weights=D, minlength=np.max(S)+1)\n",
        "means = sums / count\n",
        "print(means)"
      ]
    },
    {
      "cell_type": "markdown",
      "id": "e0a1d836",
      "metadata": {
        "id": "e0a1d836"
      },
      "source": [
        "69. How to get the diagonal of a dot product? (★★★)"
      ]
    },
    {
      "cell_type": "code",
      "execution_count": null,
      "id": "644f869f",
      "metadata": {
        "id": "644f869f",
        "outputId": "cc9595ad-4356-4c71-faa8-9c9f7d1d4fa1"
      },
      "outputs": [
        {
          "name": "stdout",
          "output_type": "stream",
          "text": [
            "[19 50]\n"
          ]
        }
      ],
      "source": [
        "A = np.array([[1, 2], [3, 4]])\n",
        "B = np.array([[5, 6], [7, 8]])\n",
        "\n",
        "dot_product = np.dot(A, B)\n",
        "diagonal_elements = np.diagonal(dot_product)\n",
        "\n",
        "print(diagonal_elements)"
      ]
    },
    {
      "cell_type": "markdown",
      "id": "75333c74",
      "metadata": {
        "id": "75333c74"
      },
      "source": [
        "70. Consider the vector [1, 2, 3, 4, 5], how to build a new vector with 3 consecutive zeros interleaved between each value? (★★★)"
      ]
    },
    {
      "cell_type": "code",
      "execution_count": null,
      "id": "26f2cbef",
      "metadata": {
        "id": "26f2cbef",
        "outputId": "e1807b09-ddf5-4318-d047-4d92932babe8"
      },
      "outputs": [
        {
          "name": "stdout",
          "output_type": "stream",
          "text": [
            "[1. 0. 0. 0. 2. 0. 0. 0. 3. 0. 0. 0. 4. 0. 0. 0. 5.]\n"
          ]
        }
      ],
      "source": [
        "x = np.array([1, 2, 3, 4, 5])\n",
        "n_zeros = 3\n",
        "y = np.zeros(len(x) + (len(x) - 1) * n_zeros)\n",
        "y[::n_zeros + 1] = x\n",
        "\n",
        "print(y)"
      ]
    },
    {
      "cell_type": "markdown",
      "id": "cd63ff24",
      "metadata": {
        "id": "cd63ff24"
      },
      "source": [
        "71. Consider an array of dimension (5,5,3), how to mulitply it by an array with dimensions (5,5)? (★★★)"
      ]
    },
    {
      "cell_type": "code",
      "execution_count": null,
      "id": "48fc2a99",
      "metadata": {
        "id": "48fc2a99",
        "outputId": "48c936b0-b798-4217-bdc5-9c37b3ed9589"
      },
      "outputs": [
        {
          "name": "stdout",
          "output_type": "stream",
          "text": [
            "[[[2. 2. 2.]\n",
            "  [2. 2. 2.]\n",
            "  [2. 2. 2.]\n",
            "  [2. 2. 2.]\n",
            "  [2. 2. 2.]]\n",
            "\n",
            " [[2. 2. 2.]\n",
            "  [2. 2. 2.]\n",
            "  [2. 2. 2.]\n",
            "  [2. 2. 2.]\n",
            "  [2. 2. 2.]]\n",
            "\n",
            " [[2. 2. 2.]\n",
            "  [2. 2. 2.]\n",
            "  [2. 2. 2.]\n",
            "  [2. 2. 2.]\n",
            "  [2. 2. 2.]]\n",
            "\n",
            " [[2. 2. 2.]\n",
            "  [2. 2. 2.]\n",
            "  [2. 2. 2.]\n",
            "  [2. 2. 2.]\n",
            "  [2. 2. 2.]]\n",
            "\n",
            " [[2. 2. 2.]\n",
            "  [2. 2. 2.]\n",
            "  [2. 2. 2.]\n",
            "  [2. 2. 2.]\n",
            "  [2. 2. 2.]]]\n"
          ]
        }
      ],
      "source": [
        "A = np.ones((5,5,3))\n",
        "B = 2*np.ones((5,5))\n",
        "print(A * B[:,:,None])"
      ]
    },
    {
      "cell_type": "markdown",
      "id": "637c5b65",
      "metadata": {
        "id": "637c5b65"
      },
      "source": [
        "72. How to swap two rows of an array? (★★★)"
      ]
    },
    {
      "cell_type": "code",
      "execution_count": null,
      "id": "74925510",
      "metadata": {
        "id": "74925510",
        "outputId": "cfe0f1ca-5e25-4154-d634-e9036351596a"
      },
      "outputs": [
        {
          "name": "stdout",
          "output_type": "stream",
          "text": [
            "[[1 2 3]\n",
            " [7 8 9]\n",
            " [4 5 6]]\n"
          ]
        }
      ],
      "source": [
        "arr = np.array([[1, 2, 3],\n",
        "                [4, 5, 6],\n",
        "                [7, 8, 9]])\n",
        "\n",
        "arr[[1, 2]] = arr[[2, 1]]\n",
        "print(arr)"
      ]
    },
    {
      "cell_type": "markdown",
      "id": "7a1d4183",
      "metadata": {
        "id": "7a1d4183"
      },
      "source": [
        "73. Consider a set of 10 triplets describing 10 triangles (with shared vertices), find the set of unique line segments composing all the triangles (★★★)"
      ]
    },
    {
      "cell_type": "code",
      "execution_count": null,
      "id": "b3ad358a",
      "metadata": {
        "id": "b3ad358a",
        "outputId": "38780946-6e0d-4dc4-ad18-997b53789ae1"
      },
      "outputs": [
        {
          "name": "stdout",
          "output_type": "stream",
          "text": [
            "[(3, 4), (3, 7), (4, 6), (0, 2), (8, 9), (1, 6), (6, 8), (0, 1), (8, 8), (1, 2), (2, 7), (7, 9), (6, 7), (4, 7), (3, 8), (0, 0), (0, 3), (1, 4), (0, 6), (2, 6), (6, 6), (7, 8)]\n"
          ]
        }
      ],
      "source": [
        "triplets = np.random.randint(0, 10, size=(10, 3))\n",
        "segments = set()\n",
        "\n",
        "for triplet in triplets:\n",
        "    for i in range(3):\n",
        "        j = (i + 1) % 3\n",
        "        segment = tuple(sorted((triplet[i], triplet[j])))\n",
        "        segments.add(segment)\n",
        "\n",
        "print(list(segments))"
      ]
    },
    {
      "cell_type": "markdown",
      "id": "34807265",
      "metadata": {
        "id": "34807265"
      },
      "source": [
        "74. Given a sorted array C that corresponds to a bincount, how to produce an array A such that np.bincount(A) == C? (★★★)"
      ]
    },
    {
      "cell_type": "code",
      "execution_count": null,
      "id": "d086ccb3",
      "metadata": {
        "id": "d086ccb3",
        "outputId": "92c95a2f-b295-4b81-e805-2c4580eb2cf7"
      },
      "outputs": [
        {
          "name": "stdout",
          "output_type": "stream",
          "text": [
            "[0 0 0 0 1 1 1 2 2 2]\n"
          ]
        }
      ],
      "source": [
        "C = np.bincount([0, 1, 2, 0, 1, 2, 2, 1, 0, 0])\n",
        "A = np.repeat(np.arange(len(C)), C)\n",
        "print(A)"
      ]
    },
    {
      "cell_type": "markdown",
      "id": "fa9b0d39",
      "metadata": {
        "id": "fa9b0d39"
      },
      "source": [
        "75. How to compute averages using a sliding window over an array? (★★★)"
      ]
    },
    {
      "cell_type": "code",
      "execution_count": null,
      "id": "d647faa1",
      "metadata": {
        "id": "d647faa1",
        "outputId": "2f22a4c3-1166-402c-a5d5-7e7c2361e134"
      },
      "outputs": [
        {
          "name": "stdout",
          "output_type": "stream",
          "text": [
            "[ 1.  2.  3.  4.  5.  6.  7.  8.  9. 10. 11. 12. 13. 14. 15. 16. 17. 18.]\n"
          ]
        }
      ],
      "source": [
        "def moving_average(a, n=3) :\n",
        "    ret = np.cumsum(a, dtype=float)\n",
        "    ret[n:] = ret[n:] - ret[:-n]\n",
        "    return ret[n - 1:] / n\n",
        "a = np.arange(20)\n",
        "print(moving_average(a, n=3))"
      ]
    },
    {
      "cell_type": "markdown",
      "id": "2beda490",
      "metadata": {
        "id": "2beda490"
      },
      "source": [
        "76. Consider a one-dimensional array Z, build a two-dimensional array whose first row is (Z[0],Z[1],Z[2]) and each subsequent row is shifted by 1 (last row should be (Z[-3],Z[-2],Z[-1]) (★★★)"
      ]
    },
    {
      "cell_type": "code",
      "execution_count": null,
      "id": "c3c6a6b4",
      "metadata": {
        "id": "c3c6a6b4",
        "outputId": "d198994c-3f3d-43bf-c3c5-888b33c94062"
      },
      "outputs": [
        {
          "name": "stdout",
          "output_type": "stream",
          "text": [
            "[[1 2 3]\n",
            " [2 3 4]\n",
            " [3 4 5]\n",
            " [4 5 6]\n",
            " [5 6 7]]\n"
          ]
        }
      ],
      "source": [
        "def sliding_window_array(Z, window_size):\n",
        "    n_rows = len(Z) - window_size + 1\n",
        "    window_view = np.lib.stride_tricks.as_strided(Z, shape=(n_rows, window_size), strides=(Z.strides[0], Z.strides[0]))\n",
        "    return np.vstack(window_view)\n",
        "\n",
        "a = np.array([1, 2, 3, 4, 5, 6, 7])\n",
        "window_size = 3\n",
        "print(sliding_window_array(a, window_size))"
      ]
    },
    {
      "cell_type": "markdown",
      "id": "65a7cfa4",
      "metadata": {
        "id": "65a7cfa4"
      },
      "source": [
        "77. How to negate a boolean, or to change the sign of a float inplace? (★★★)"
      ]
    },
    {
      "cell_type": "code",
      "execution_count": null,
      "id": "a272f5f8",
      "metadata": {
        "colab": {
          "base_uri": "https://localhost:8080/"
        },
        "id": "a272f5f8",
        "outputId": "c888ef98-db0e-4f5d-af93-8e717ce9bb62"
      },
      "outputs": [
        {
          "output_type": "execute_result",
          "data": {
            "text/plain": [
              "array([-0.95073509,  0.93873835,  0.50791252, -0.82969845, -0.77792209,\n",
              "        0.06386306,  0.90696356,  0.11507863, -0.43062395, -0.72951655,\n",
              "       -0.01709014, -0.11720061, -0.98202778, -0.2063651 , -0.63430148])"
            ]
          },
          "metadata": {},
          "execution_count": 60
        }
      ],
      "source": [
        "a = np.random.randint(0, 2, 15)\n",
        "np.logical_not(a, out = a)\n",
        "a = np.random.uniform(-1.0, 1.0, 15)\n",
        "np.negative(a, out = a)"
      ]
    },
    {
      "cell_type": "markdown",
      "id": "67389d6a",
      "metadata": {
        "id": "67389d6a"
      },
      "source": [
        "78. Consider 2 sets of points P0,P1 describing lines (2d) and a point p, how to compute distance from p to each line i (P0[i],P1[i])? (★★★)"
      ]
    },
    {
      "cell_type": "code",
      "execution_count": null,
      "id": "bdcd1187",
      "metadata": {
        "id": "bdcd1187",
        "outputId": "6cdb608c-76c4-4a0e-da4e-5f0aef785336"
      },
      "outputs": [
        {
          "name": "stdout",
          "output_type": "stream",
          "text": [
            "[2.         0.         0.70710678]\n"
          ]
        }
      ],
      "source": [
        "P0 = np.array([[0, 0], [1, 1], [2, 2]])\n",
        "P1 = np.array([[1, 0], [1, 3], [3, 3]])\n",
        "\n",
        "p = np.array([1, 2])\n",
        "distances = []\n",
        "for i in range(len(P0)):\n",
        "    x1, y1 = P0[i]\n",
        "    x2, y2 = P1[i]\n",
        "    x0, y0 = p\n",
        "    dist = abs((y2 - y1) * x0 - (x2 - x1) * y0 + x2 * y1 - y2 * x1) / np.sqrt((y2 - y1) ** 2 + (x2 - x1) ** 2)\n",
        "    distances.append(dist)\n",
        "\n",
        "distances = np.array(distances)\n",
        "print(distances)"
      ]
    },
    {
      "cell_type": "markdown",
      "id": "507e7b22",
      "metadata": {
        "id": "507e7b22"
      },
      "source": [
        "79. Consider 2 sets of points P0,P1 describing lines (2d) and a set of points P, how to compute distance from each point j (P[j]) to each line i (P0[i],P1[i])? (★★★)"
      ]
    },
    {
      "cell_type": "code",
      "execution_count": null,
      "id": "e72e0c5b",
      "metadata": {
        "colab": {
          "base_uri": "https://localhost:8080/"
        },
        "id": "e72e0c5b",
        "outputId": "1bd02c88-142e-422d-8e16-64002778718c"
      },
      "outputs": [
        {
          "output_type": "stream",
          "name": "stdout",
          "text": [
            "[[1.29823115e+01 2.49141856e-01 1.43313494e+00 1.00192833e+01\n",
            "  2.33394412e+00 8.61436163e+00 8.60284320e-02 9.99628700e-01\n",
            "  1.09917168e+01 2.93076318e-01]\n",
            " [9.12551120e+00 1.71183406e+00 5.12743524e+00 4.66222020e+00\n",
            "  6.77388655e+00 3.32790918e+00 2.33719901e+00 6.01659678e+00\n",
            "  5.66688082e+00 5.64887555e+00]\n",
            " [1.19585965e+01 1.46759236e+00 2.48416762e+00 9.82577731e+00\n",
            "  3.22878258e+00 8.55264968e+00 1.02335747e+00 8.31954432e-01\n",
            "  1.08726065e+01 4.82452866e-01]\n",
            " [1.70886284e+01 1.36812905e+00 2.50525610e+00 1.56342175e+01\n",
            "  2.37275803e+00 1.41459536e+01 2.55189643e+00 4.23364564e+00\n",
            "  1.65675845e+01 5.32023837e+00]\n",
            " [1.20775781e+01 3.15709184e+00 2.51739703e+00 1.25576992e+01\n",
            "  2.49913406e+00 1.15186022e+01 4.40045209e+00 2.45550841e+00\n",
            "  1.37411028e+01 2.25735710e+00]\n",
            " [9.25081236e+00 4.34568368e+00 5.23495108e+00 8.80378598e+00\n",
            "  5.71348342e+00 7.83231132e+00 2.84626246e+00 1.01111009e+00\n",
            "  1.00200523e+01 1.49509727e+00]\n",
            " [3.49708985e+00 1.02879466e+01 1.75397322e+01 7.26404022e+00\n",
            "  2.00104028e+01 7.85129733e+00 3.05458303e+00 1.55933864e+01\n",
            "  5.85341096e+00 1.75536844e+01]\n",
            " [5.74699594e-01 1.44399637e+01 1.41228770e+01 6.82016110e+00\n",
            "  1.33767021e+01 6.93403231e+00 1.03481089e+01 9.47073410e-03\n",
            "  8.64852148e+00 3.44478614e+00]\n",
            " [3.79108280e-01 9.10973658e+00 1.45534853e+01 2.92684970e+00\n",
            "  1.64195232e+01 3.57060758e+00 1.08739755e+00 1.15297431e+01\n",
            "  1.54193423e+00 1.32174960e+01]\n",
            " [1.25529268e+01 1.49770508e+00 1.68237430e+00 6.59717256e+00\n",
            "  3.48074454e+00 4.94006362e+00 3.81938299e+00 5.00703601e+00\n",
            "  7.42174118e+00 3.72377341e+00]]\n"
          ]
        }
      ],
      "source": [
        "def distance(P0, P1, p):\n",
        "    T = P1 - P0\n",
        "    L = (T**2).sum(axis = 1)\n",
        "    U = -((P0[:,0]-p[...,0])*T[:,0] + (P0[:,1]-p[...,1])*T[:,1]) / L\n",
        "    U = U.reshape(len(U),1)\n",
        "    D = P0 + U*T - p\n",
        "    return np.sqrt((D**2).sum(axis=1))\n",
        "P0 = np.random.uniform(-10, 10, (10,2))\n",
        "P1 = np.random.uniform(-10,10,(10,2))\n",
        "p = np.random.uniform(-10, 10, (10,2))\n",
        "print(np.array([distance(P0,P1,p_i) for p_i in p]))"
      ]
    },
    {
      "cell_type": "markdown",
      "id": "12a7e375",
      "metadata": {
        "id": "12a7e375"
      },
      "source": [
        "80. Consider an arbitrary array, write a function that extract a subpart with a fixed shape and centered on a given element (pad with a fill value when necessary) (★★★)"
      ]
    },
    {
      "cell_type": "code",
      "execution_count": null,
      "id": "72a10a12",
      "metadata": {
        "colab": {
          "base_uri": "https://localhost:8080/"
        },
        "id": "72a10a12",
        "outputId": "1816e235-8119-41b9-bdbb-89c8d66619b7"
      },
      "outputs": [
        {
          "output_type": "stream",
          "name": "stdout",
          "text": [
            "[[0 0 0 0 0]\n",
            " [0 1 9 8 9]\n",
            " [0 4 0 8 6]\n",
            " [0 7 4 3 1]\n",
            " [0 3 3 2 4]]\n"
          ]
        }
      ],
      "source": [
        "def extract_subpart(arr, shape, center, fill_value=0):\n",
        "    \"\"\"\n",
        "    Extracts a subpart of an array with a fixed shape and centered on a given element.\n",
        "    If the subpart goes out of bounds, it is padded with the fill value.\n",
        "\n",
        "    Parameters:\n",
        "    -----------\n",
        "    arr : numpy.ndarray\n",
        "        The input array.\n",
        "    shape : tuple of int\n",
        "        The shape of the subpart to extract.\n",
        "    center : tuple of int\n",
        "        The coordinates of the center of the subpart to extract.\n",
        "    fill_value : scalar, optional\n",
        "        The value to use for padding when the subpart goes out of bounds.\n",
        "        Default is 0.\n",
        "\n",
        "    Returns:\n",
        "    --------\n",
        "    subpart : numpy.ndarray\n",
        "        The extracted subpart of the array.\n",
        "    \"\"\"\n",
        "    half_shape = np.array(shape) // 2\n",
        "    start = np.array(center) - half_shape\n",
        "    end = start + shape\n",
        "\n",
        "    pad_start = np.maximum(0, -start)\n",
        "    pad_end = np.maximum(0, end - np.array(arr.shape))\n",
        "\n",
        "    start = np.maximum(start, 0)\n",
        "    end = np.minimum(end, np.array(arr.shape))\n",
        "\n",
        "    subpart = np.ones(shape, dtype=arr.dtype) * fill_value\n",
        "    subpart[pad_start[0]:shape[0]-pad_end[0], pad_start[1]:shape[1]-pad_end[1]] = arr[start[0]:end[0], start[1]:end[1]]\n",
        "\n",
        "    return subpart\n",
        "a = np.random.randint(0,10,(10,10))\n",
        "shape = (5,5)\n",
        "fill  = 0\n",
        "position = (1,1)\n",
        "print(extract_subpart(a, shape, position, fill))"
      ]
    },
    {
      "cell_type": "markdown",
      "id": "6babaec8",
      "metadata": {
        "id": "6babaec8"
      },
      "source": [
        "81. Consider an array Z = [1,2,3,4,5,6,7,8,9,10,11,12,13,14], how to generate an array R = [[1,2,3,4], [2,3,4,5], [3,4,5,6], ..., [11,12,13,14]]? (★★★)"
      ]
    },
    {
      "cell_type": "code",
      "execution_count": null,
      "id": "ee9febad",
      "metadata": {
        "id": "ee9febad",
        "outputId": "732f11d7-69cd-4ede-9b5f-d560007960c4"
      },
      "outputs": [
        {
          "name": "stdout",
          "output_type": "stream",
          "text": [
            "[[ 1  2  3  4]\n",
            " [ 2  3  4  5]\n",
            " [ 3  4  5  6]\n",
            " [ 4  5  6  7]\n",
            " [ 5  6  7  8]\n",
            " [ 6  7  8  9]\n",
            " [ 7  8  9 10]\n",
            " [ 8  9 10 11]\n",
            " [ 9 10 11 12]\n",
            " [10 11 12 13]\n",
            " [11 12 13 14]]\n"
          ]
        }
      ],
      "source": [
        "Z = [1,2,3,4,5,6,7,8,9,10,11,12,13,14]\n",
        "R = np.vstack([Z[i:i + 4] for i in range(len(Z) - 3)])\n",
        "print(R)"
      ]
    },
    {
      "cell_type": "markdown",
      "id": "36b1e7dd",
      "metadata": {
        "id": "36b1e7dd"
      },
      "source": [
        "82. Compute a matrix rank (★★★)"
      ]
    },
    {
      "cell_type": "code",
      "execution_count": null,
      "id": "25c4033b",
      "metadata": {
        "colab": {
          "base_uri": "https://localhost:8080/"
        },
        "id": "25c4033b",
        "outputId": "8af95afe-434f-4bb6-a64f-8366d30a0320"
      },
      "outputs": [
        {
          "output_type": "stream",
          "name": "stdout",
          "text": [
            "10\n"
          ]
        }
      ],
      "source": [
        "a = np.random.uniform(0,1,(10,10))\n",
        "rank = np.linalg.matrix_rank(a)\n",
        "print(rank)"
      ]
    },
    {
      "cell_type": "markdown",
      "id": "8e74dffa",
      "metadata": {
        "id": "8e74dffa"
      },
      "source": [
        "83. How to find the most frequent value in an array?"
      ]
    },
    {
      "cell_type": "code",
      "execution_count": null,
      "id": "0a1b7ffc",
      "metadata": {
        "colab": {
          "base_uri": "https://localhost:8080/"
        },
        "id": "0a1b7ffc",
        "outputId": "4478ba86-40d4-44ed-bae0-e00f15af244e"
      },
      "outputs": [
        {
          "output_type": "stream",
          "name": "stdout",
          "text": [
            "3\n"
          ]
        }
      ],
      "source": [
        "a = np.random.randint(0, 10, 20)\n",
        "a = np.bincount(a).argmax()\n",
        "print(a)"
      ]
    },
    {
      "cell_type": "markdown",
      "id": "7d9cc69a",
      "metadata": {
        "id": "7d9cc69a"
      },
      "source": [
        "84. Extract all the contiguous 3x3 blocks from a random 10x10 matrix (★★★)"
      ]
    },
    {
      "cell_type": "code",
      "execution_count": null,
      "id": "12e61aec",
      "metadata": {
        "colab": {
          "base_uri": "https://localhost:8080/"
        },
        "id": "12e61aec",
        "outputId": "af5789d5-b1a3-4307-d5b6-931c04660b48"
      },
      "outputs": [
        {
          "output_type": "stream",
          "name": "stdout",
          "text": [
            "[[[[8 2 3]\n",
            "   [3 1 0]\n",
            "   [3 1 5]]\n",
            "\n",
            "  [[2 3 2]\n",
            "   [1 0 4]\n",
            "   [1 5 9]]\n",
            "\n",
            "  [[3 2 3]\n",
            "   [0 4 5]\n",
            "   [5 9 3]]\n",
            "\n",
            "  [[2 3 7]\n",
            "   [4 5 7]\n",
            "   [9 3 0]]\n",
            "\n",
            "  [[3 7 4]\n",
            "   [5 7 1]\n",
            "   [3 0 9]]\n",
            "\n",
            "  [[7 4 5]\n",
            "   [7 1 4]\n",
            "   [0 9 7]]\n",
            "\n",
            "  [[4 5 3]\n",
            "   [1 4 1]\n",
            "   [9 7 7]]\n",
            "\n",
            "  [[5 3 0]\n",
            "   [4 1 5]\n",
            "   [7 7 1]]]\n",
            "\n",
            "\n",
            " [[[3 1 0]\n",
            "   [3 1 5]\n",
            "   [6 9 4]]\n",
            "\n",
            "  [[1 0 4]\n",
            "   [1 5 9]\n",
            "   [9 4 4]]\n",
            "\n",
            "  [[0 4 5]\n",
            "   [5 9 3]\n",
            "   [4 4 6]]\n",
            "\n",
            "  [[4 5 7]\n",
            "   [9 3 0]\n",
            "   [4 6 8]]\n",
            "\n",
            "  [[5 7 1]\n",
            "   [3 0 9]\n",
            "   [6 8 2]]\n",
            "\n",
            "  [[7 1 4]\n",
            "   [0 9 7]\n",
            "   [8 2 9]]\n",
            "\n",
            "  [[1 4 1]\n",
            "   [9 7 7]\n",
            "   [2 9 8]]\n",
            "\n",
            "  [[4 1 5]\n",
            "   [7 7 1]\n",
            "   [9 8 4]]]\n",
            "\n",
            "\n",
            " [[[3 1 5]\n",
            "   [6 9 4]\n",
            "   [2 3 5]]\n",
            "\n",
            "  [[1 5 9]\n",
            "   [9 4 4]\n",
            "   [3 5 0]]\n",
            "\n",
            "  [[5 9 3]\n",
            "   [4 4 6]\n",
            "   [5 0 5]]\n",
            "\n",
            "  [[9 3 0]\n",
            "   [4 6 8]\n",
            "   [0 5 7]]\n",
            "\n",
            "  [[3 0 9]\n",
            "   [6 8 2]\n",
            "   [5 7 4]]\n",
            "\n",
            "  [[0 9 7]\n",
            "   [8 2 9]\n",
            "   [7 4 4]]\n",
            "\n",
            "  [[9 7 7]\n",
            "   [2 9 8]\n",
            "   [4 4 8]]\n",
            "\n",
            "  [[7 7 1]\n",
            "   [9 8 4]\n",
            "   [4 8 8]]]\n",
            "\n",
            "\n",
            " [[[6 9 4]\n",
            "   [2 3 5]\n",
            "   [3 6 1]]\n",
            "\n",
            "  [[9 4 4]\n",
            "   [3 5 0]\n",
            "   [6 1 5]]\n",
            "\n",
            "  [[4 4 6]\n",
            "   [5 0 5]\n",
            "   [1 5 4]]\n",
            "\n",
            "  [[4 6 8]\n",
            "   [0 5 7]\n",
            "   [5 4 5]]\n",
            "\n",
            "  [[6 8 2]\n",
            "   [5 7 4]\n",
            "   [4 5 8]]\n",
            "\n",
            "  [[8 2 9]\n",
            "   [7 4 4]\n",
            "   [5 8 2]]\n",
            "\n",
            "  [[2 9 8]\n",
            "   [4 4 8]\n",
            "   [8 2 9]]\n",
            "\n",
            "  [[9 8 4]\n",
            "   [4 8 8]\n",
            "   [2 9 1]]]\n",
            "\n",
            "\n",
            " [[[2 3 5]\n",
            "   [3 6 1]\n",
            "   [1 4 6]]\n",
            "\n",
            "  [[3 5 0]\n",
            "   [6 1 5]\n",
            "   [4 6 1]]\n",
            "\n",
            "  [[5 0 5]\n",
            "   [1 5 4]\n",
            "   [6 1 7]]\n",
            "\n",
            "  [[0 5 7]\n",
            "   [5 4 5]\n",
            "   [1 7 7]]\n",
            "\n",
            "  [[5 7 4]\n",
            "   [4 5 8]\n",
            "   [7 7 4]]\n",
            "\n",
            "  [[7 4 4]\n",
            "   [5 8 2]\n",
            "   [7 4 0]]\n",
            "\n",
            "  [[4 4 8]\n",
            "   [8 2 9]\n",
            "   [4 0 6]]\n",
            "\n",
            "  [[4 8 8]\n",
            "   [2 9 1]\n",
            "   [0 6 0]]]\n",
            "\n",
            "\n",
            " [[[3 6 1]\n",
            "   [1 4 6]\n",
            "   [0 8 0]]\n",
            "\n",
            "  [[6 1 5]\n",
            "   [4 6 1]\n",
            "   [8 0 9]]\n",
            "\n",
            "  [[1 5 4]\n",
            "   [6 1 7]\n",
            "   [0 9 0]]\n",
            "\n",
            "  [[5 4 5]\n",
            "   [1 7 7]\n",
            "   [9 0 4]]\n",
            "\n",
            "  [[4 5 8]\n",
            "   [7 7 4]\n",
            "   [0 4 1]]\n",
            "\n",
            "  [[5 8 2]\n",
            "   [7 4 0]\n",
            "   [4 1 4]]\n",
            "\n",
            "  [[8 2 9]\n",
            "   [4 0 6]\n",
            "   [1 4 0]]\n",
            "\n",
            "  [[2 9 1]\n",
            "   [0 6 0]\n",
            "   [4 0 1]]]\n",
            "\n",
            "\n",
            " [[[1 4 6]\n",
            "   [0 8 0]\n",
            "   [6 4 8]]\n",
            "\n",
            "  [[4 6 1]\n",
            "   [8 0 9]\n",
            "   [4 8 6]]\n",
            "\n",
            "  [[6 1 7]\n",
            "   [0 9 0]\n",
            "   [8 6 0]]\n",
            "\n",
            "  [[1 7 7]\n",
            "   [9 0 4]\n",
            "   [6 0 3]]\n",
            "\n",
            "  [[7 7 4]\n",
            "   [0 4 1]\n",
            "   [0 3 5]]\n",
            "\n",
            "  [[7 4 0]\n",
            "   [4 1 4]\n",
            "   [3 5 4]]\n",
            "\n",
            "  [[4 0 6]\n",
            "   [1 4 0]\n",
            "   [5 4 2]]\n",
            "\n",
            "  [[0 6 0]\n",
            "   [4 0 1]\n",
            "   [4 2 0]]]\n",
            "\n",
            "\n",
            " [[[0 8 0]\n",
            "   [6 4 8]\n",
            "   [2 0 1]]\n",
            "\n",
            "  [[8 0 9]\n",
            "   [4 8 6]\n",
            "   [0 1 3]]\n",
            "\n",
            "  [[0 9 0]\n",
            "   [8 6 0]\n",
            "   [1 3 6]]\n",
            "\n",
            "  [[9 0 4]\n",
            "   [6 0 3]\n",
            "   [3 6 2]]\n",
            "\n",
            "  [[0 4 1]\n",
            "   [0 3 5]\n",
            "   [6 2 0]]\n",
            "\n",
            "  [[4 1 4]\n",
            "   [3 5 4]\n",
            "   [2 0 7]]\n",
            "\n",
            "  [[1 4 0]\n",
            "   [5 4 2]\n",
            "   [0 7 5]]\n",
            "\n",
            "  [[4 0 1]\n",
            "   [4 2 0]\n",
            "   [7 5 5]]]]\n"
          ]
        }
      ],
      "source": [
        "matrix = np.random.randint(0, 10, size=(10, 10))\n",
        "block_size = 3\n",
        "\n",
        "output_shape = (matrix.shape[0] - block_size + 1, matrix.shape[1] - block_size + 1, block_size, block_size)\n",
        "strides = matrix.strides + matrix.strides\n",
        "blocks = np.lib.stride_tricks.as_strided(matrix, shape=output_shape, strides=strides)\n",
        "\n",
        "print(blocks)"
      ]
    },
    {
      "cell_type": "markdown",
      "id": "d62fbf1b",
      "metadata": {
        "id": "d62fbf1b"
      },
      "source": [
        "85. Create a 2D array subclass such that Z[i,j] == Z[j,i] (★★★)\n"
      ]
    },
    {
      "cell_type": "code",
      "execution_count": null,
      "id": "b9fa256f",
      "metadata": {
        "colab": {
          "base_uri": "https://localhost:8080/"
        },
        "id": "b9fa256f",
        "outputId": "9b5f522b-5ef9-4876-c994-7ddb08c2f86d"
      },
      "outputs": [
        {
          "output_type": "stream",
          "name": "stdout",
          "text": [
            "[[0.66587683 0.30051533 0.2935543  0.3636827  0.85589498]\n",
            " [0.61918193 0.72008615 0.71597531 0.42568033 0.22515631]\n",
            " [0.42704861 0.34499864 0.949895   0.82929033 0.65495331]\n",
            " [0.01138912 0.36510324 0.36684737 0.93081792 0.25498541]\n",
            " [0.12353485 0.89321556 0.74012307 0.91952195 0.32532094]]\n"
          ]
        }
      ],
      "source": [
        "class SymmetricArray(np.ndarray):\n",
        "    def __new__(cls, input_array):\n",
        "        obj = np.asarray(input_array).view(cls)\n",
        "        return obj\n",
        "\n",
        "    def __eq__(self, other):\n",
        "        return np.array_equal(self, other) or np.array_equal(self, other.T)\n",
        "\n",
        "    def __ne__(self, other):\n",
        "        return not self.__eq__(other)\n",
        "Z = SymmetricArray(np.random.rand(5,5))\n",
        "print(Z)"
      ]
    },
    {
      "cell_type": "markdown",
      "id": "327f9aa5",
      "metadata": {
        "id": "327f9aa5"
      },
      "source": [
        "86. Consider a set of p matrices wich shape (n,n) and a set of p vectors with shape (n,1). How to compute the sum of of the p matrix products at once? (result has shape (n,1)) (★★★)"
      ]
    },
    {
      "cell_type": "code",
      "execution_count": null,
      "id": "16f456d2",
      "metadata": {
        "colab": {
          "base_uri": "https://localhost:8080/"
        },
        "id": "16f456d2",
        "outputId": "0aa3e961-8488-47b5-a8b8-e766b978ce3e"
      },
      "outputs": [
        {
          "output_type": "stream",
          "name": "stdout",
          "text": [
            "[[2.24075226]\n",
            " [3.36785161]\n",
            " [2.47003854]\n",
            " [2.42097925]]\n"
          ]
        }
      ],
      "source": [
        "p = 3\n",
        "n = 4\n",
        "matrices = np.random.rand(p, n, n)\n",
        "vectors = np.random.rand(p, n, 1)\n",
        "result = np.einsum('ijk,ikl->jl', matrices, vectors)\n",
        "print(result)"
      ]
    },
    {
      "cell_type": "markdown",
      "id": "d6005368",
      "metadata": {
        "id": "d6005368"
      },
      "source": [
        "87. Consider a 16x16 array, how to get the block-sum (block size is 4x4)? (★★★)"
      ]
    },
    {
      "cell_type": "code",
      "execution_count": null,
      "id": "3600433e",
      "metadata": {
        "colab": {
          "base_uri": "https://localhost:8080/"
        },
        "id": "3600433e",
        "outputId": "6c89d5fc-8617-4f3b-8cd0-7964e84c1a04"
      },
      "outputs": [
        {
          "output_type": "stream",
          "name": "stdout",
          "text": [
            "[[16. 16. 16. 16.]\n",
            " [16. 16. 16. 16.]\n",
            " [16. 16. 16. 16.]\n",
            " [16. 16. 16. 16.]]\n"
          ]
        }
      ],
      "source": [
        "a = np.ones((16,16))\n",
        "k = 4\n",
        "sum = np.add.reduceat(np.add.reduceat(a, np.arange(0, a.shape[0], k), axis=0),\n",
        "                                       np.arange(0, a.shape[1], k), axis=1)\n",
        "print(sum)"
      ]
    },
    {
      "cell_type": "markdown",
      "id": "b324c79c",
      "metadata": {
        "id": "b324c79c"
      },
      "source": [
        "88. How to implement the Game of Life using numpy arrays? (★★★)"
      ]
    },
    {
      "cell_type": "code",
      "execution_count": null,
      "id": "ed397fd7",
      "metadata": {
        "id": "ed397fd7"
      },
      "outputs": [],
      "source": [
        "board = np.zeros((16, 16), dtype = int)\n",
        "def next_generation(board):\n",
        "    # create a new board to store the next generation\n",
        "    new_board = np.zeros(board.shape, dtype=int)\n",
        "\n",
        "    # loop over every cell in the board\n",
        "    for i in range(board.shape[0]):\n",
        "        for j in range(board.shape[1]):\n",
        "            # count the number of live neighbors for this cell\n",
        "            num_neighbors = np.sum(board[max(0, i-1):min(i+2, board.shape[0]), max(0, j-1):min(j+2, board.shape[1])]) - board[i, j]\n",
        "\n",
        "            # apply the rules of the game to determine the state of the cell in the next generation\n",
        "            if board[i, j] == 1 and (num_neighbors == 2 or num_neighbors == 3):\n",
        "                new_board[i, j] = 1\n",
        "            elif board[i, j] == 0 and num_neighbors == 3:\n",
        "                new_board[i, j] = 1\n",
        "\n",
        "    return new_board\n",
        "for i in range(10):\n",
        "    board = next_generation(board)"
      ]
    },
    {
      "cell_type": "markdown",
      "id": "b1b6b503",
      "metadata": {
        "id": "b1b6b503"
      },
      "source": [
        "89. How to get the n largest values of an array (★★★)"
      ]
    },
    {
      "cell_type": "code",
      "execution_count": null,
      "id": "841e148a",
      "metadata": {
        "colab": {
          "base_uri": "https://localhost:8080/"
        },
        "id": "841e148a",
        "outputId": "1ed83d77-e58f-476c-b28a-e363ce34b76d"
      },
      "outputs": [
        {
          "output_type": "stream",
          "name": "stdout",
          "text": [
            "[9995 9996 9997 9998 9999]\n"
          ]
        }
      ],
      "source": [
        "a = np.arange(10000)\n",
        "np.random.shuffle(a)\n",
        "n = 5\n",
        "\n",
        "print (a[np.argsort(a)[-n:]])"
      ]
    },
    {
      "cell_type": "markdown",
      "id": "aa49aed8",
      "metadata": {
        "id": "aa49aed8"
      },
      "source": [
        "90. Given an arbitrary number of vectors, build the cartesian product (every combinations of every item) (★★★)"
      ]
    },
    {
      "cell_type": "code",
      "execution_count": null,
      "id": "46a15303",
      "metadata": {
        "colab": {
          "base_uri": "https://localhost:8080/"
        },
        "id": "46a15303",
        "outputId": "16147795-e031-4af9-9ed4-25499ae98e61"
      },
      "outputs": [
        {
          "output_type": "stream",
          "name": "stdout",
          "text": [
            "[[1 4 6]\n",
            " [1 4 7]\n",
            " [1 4 8]\n",
            " [1 5 6]\n",
            " [1 5 7]\n",
            " [1 5 8]\n",
            " [2 4 6]\n",
            " [2 4 7]\n",
            " [2 4 8]\n",
            " [2 5 6]\n",
            " [2 5 7]\n",
            " [2 5 8]\n",
            " [3 4 6]\n",
            " [3 4 7]\n",
            " [3 4 8]\n",
            " [3 5 6]\n",
            " [3 5 7]\n",
            " [3 5 8]]\n"
          ]
        }
      ],
      "source": [
        "v1 = np.array([1, 2, 3])\n",
        "v2 = np.array([4, 5])\n",
        "v3 = np.array([6, 7, 8])\n",
        "grid = np.meshgrid(v1, v2, v3, indexing='ij')\n",
        "cartesian_product = np.stack(grid, axis=-1).reshape(-1, len(grid))\n",
        "\n",
        "print(cartesian_product)"
      ]
    },
    {
      "cell_type": "markdown",
      "id": "19abba97",
      "metadata": {
        "id": "19abba97"
      },
      "source": [
        "91. How to create a record array from a regular array? (★★★)"
      ]
    },
    {
      "cell_type": "code",
      "execution_count": null,
      "id": "e6479fc2",
      "metadata": {
        "id": "e6479fc2",
        "outputId": "015754bc-63e2-49ac-e563-b9bea0f47d9a"
      },
      "outputs": [
        {
          "name": "stdout",
          "output_type": "stream",
          "text": [
            "[(1, 'a', 0.1) (2, 'b', 0.2) (3, 'c', 0.3)]\n"
          ]
        }
      ],
      "source": [
        "a = np.array([1, 2, 3])\n",
        "b = np.array(['a', 'b', 'c'])\n",
        "c = np.array([0.1, 0.2, 0.3])\n",
        "\n",
        "rec = np.rec.fromarrays([a, b, c], names='field1,field2,field3')\n",
        "\n",
        "print(rec)"
      ]
    },
    {
      "cell_type": "markdown",
      "id": "f25ed61b",
      "metadata": {
        "id": "f25ed61b"
      },
      "source": [
        "92. Consider a large vector Z, compute Z to the power of 3 using 3 different methods (★★★)"
      ]
    },
    {
      "cell_type": "code",
      "execution_count": null,
      "id": "81f06f30",
      "metadata": {
        "id": "81f06f30",
        "outputId": "bb434eca-b877-4c91-b72f-5c012d5d6cbb"
      },
      "outputs": [
        {
          "name": "stdout",
          "output_type": "stream",
          "text": [
            "40.7 ms ± 998 µs per loop (mean ± std. dev. of 7 runs, 10 loops each)\n",
            "5.07 ms ± 204 µs per loop (mean ± std. dev. of 7 runs, 100 loops each)\n",
            "3.38 ms ± 54.5 µs per loop (mean ± std. dev. of 7 runs, 100 loops each)\n"
          ]
        }
      ],
      "source": [
        "Z = np.random.rand(int(5e5))\n",
        "%timeit np.power(Z,3)\n",
        "%timeit Z*Z*Z\n",
        "%timeit np.einsum('i,i,i->i',Z, Z, Z)"
      ]
    },
    {
      "cell_type": "markdown",
      "id": "257797e1",
      "metadata": {
        "id": "257797e1"
      },
      "source": [
        "93. Consider two arrays A and B of shape (8,3) and (2,2). How to find rows of A that contain elements of each row of B regardless of the order of the elements in B? (★★★)"
      ]
    },
    {
      "cell_type": "code",
      "execution_count": null,
      "id": "c9532e2d",
      "metadata": {
        "colab": {
          "base_uri": "https://localhost:8080/"
        },
        "id": "c9532e2d",
        "outputId": "da745c33-e075-4dac-c96e-2e26063994a4"
      },
      "outputs": [
        {
          "output_type": "stream",
          "name": "stdout",
          "text": [
            "[3 4]\n"
          ]
        }
      ],
      "source": [
        "A = np.random.randint(0, 10, size=(8, 3))\n",
        "B = np.random.randint(0, 10, size=(2, 2))\n",
        "\n",
        "C = (A[..., np.newaxis, np.newaxis] == B)\n",
        "rows = np.where(C.any((3,1)).all(1))[0]\n",
        "print(rows)"
      ]
    },
    {
      "cell_type": "markdown",
      "id": "907580b6",
      "metadata": {
        "id": "907580b6"
      },
      "source": [
        "94. Considering a 10x3 matrix, extract rows with unequal values (e.g. [2,2,3]) (★★★)"
      ]
    },
    {
      "cell_type": "code",
      "execution_count": null,
      "id": "37332504",
      "metadata": {
        "id": "37332504",
        "outputId": "46b5df2c-f3eb-4117-d377-040d79d669b3"
      },
      "outputs": [
        {
          "name": "stdout",
          "output_type": "stream",
          "text": [
            "[[1 2 3]\n",
            " [2 2 3]\n",
            " [4 5 6]\n",
            " [7 7 7]\n",
            " [8 9 9]\n",
            " [8 8 8]\n",
            " [2 2 2]\n",
            " [3 3 3]\n",
            " [1 1 1]\n",
            " [4 4 4]]\n"
          ]
        }
      ],
      "source": [
        "A = np.array([[1, 2, 3],\n",
        "              [2, 2, 3],\n",
        "              [4, 5, 6],\n",
        "              [7, 7, 7],\n",
        "              [8, 9, 9],\n",
        "              [8, 8, 8],\n",
        "              [2, 2, 2],\n",
        "              [3, 3, 3],\n",
        "              [1, 1, 1],\n",
        "              [4, 4, 4]])\n",
        "\n",
        "unique_rows = np.unique(A, axis=1)\n",
        "unequal_rows = A[np.where(np.apply_along_axis(len, 1, unique_rows) != 1)]\n",
        "\n",
        "print(unique_rows)"
      ]
    },
    {
      "cell_type": "markdown",
      "id": "bb27c1c7",
      "metadata": {
        "id": "bb27c1c7"
      },
      "source": [
        "95. Convert a vector of ints into a matrix binary representation (★★★)"
      ]
    },
    {
      "cell_type": "code",
      "execution_count": null,
      "id": "578a414c",
      "metadata": {
        "id": "578a414c",
        "outputId": "6ee3d9a5-4e15-4ad9-ab4e-82918ced814f"
      },
      "outputs": [
        {
          "name": "stdout",
          "output_type": "stream",
          "text": [
            "[[0 0 0 0 0 0 0 0]\n",
            " [0 0 0 0 0 0 0 1]\n",
            " [0 0 0 0 0 0 1 0]\n",
            " [0 0 0 0 0 0 1 1]\n",
            " [0 0 0 0 1 1 1 1]\n",
            " [0 0 0 1 0 0 0 0]\n",
            " [0 0 1 0 0 0 0 0]\n",
            " [0 1 0 0 0 0 0 0]\n",
            " [1 0 0 0 0 0 0 0]]\n"
          ]
        }
      ],
      "source": [
        "I = np.array([0, 1, 2, 3, 15, 16, 32, 64, 128], dtype=np.uint8)\n",
        "print(np.unpackbits(I[:, np.newaxis], axis=1))"
      ]
    },
    {
      "cell_type": "markdown",
      "id": "c8d37172",
      "metadata": {
        "id": "c8d37172"
      },
      "source": [
        "96. Given a two dimensional array, how to extract unique rows? (★★★)"
      ]
    },
    {
      "cell_type": "code",
      "execution_count": null,
      "id": "5e5efa51",
      "metadata": {
        "colab": {
          "base_uri": "https://localhost:8080/"
        },
        "id": "5e5efa51",
        "outputId": "2f7b18aa-e936-4a84-ef2d-705cd253bff8"
      },
      "outputs": [
        {
          "output_type": "stream",
          "name": "stdout",
          "text": [
            "[[0 0 0]\n",
            " [0 1 1]\n",
            " [1 0 1]\n",
            " [1 1 1]]\n"
          ]
        }
      ],
      "source": [
        "Z = np.random.randint(0,2,(6,3))\n",
        "uZ = np.unique(Z, axis=0)\n",
        "print(uZ)"
      ]
    },
    {
      "cell_type": "markdown",
      "id": "777249ac",
      "metadata": {
        "id": "777249ac"
      },
      "source": [
        "97. Considering 2 vectors A & B, write the einsum equivalent of inner, outer, sum, and mul function (★★★)"
      ]
    },
    {
      "cell_type": "code",
      "execution_count": null,
      "id": "d1a71860",
      "metadata": {
        "colab": {
          "base_uri": "https://localhost:8080/"
        },
        "id": "d1a71860",
        "outputId": "616754d2-0d68-4565-9cf9-cdb452ee58ac"
      },
      "outputs": [
        {
          "output_type": "execute_result",
          "data": {
            "text/plain": [
              "array([[2.85970084e+00, 1.04894580e-01, 1.83550827e+00, 2.82601545e+00,\n",
              "        1.21758612e+00, 2.05307756e-01, 2.08225471e+00, 2.65332556e+00,\n",
              "        1.11780940e+00, 2.66809034e+00, 3.79338167e-01, 2.03893226e+00,\n",
              "        2.25089518e+00, 5.33422237e-02, 4.73886886e-01, 2.26167475e+00,\n",
              "        7.33217208e-01, 5.25034634e-01, 2.77535905e+00, 1.18919046e+00],\n",
              "       [6.06811824e+01, 2.22580175e+00, 3.89484138e+01, 5.99663981e+01,\n",
              "        2.58364666e+01, 4.35651073e+00, 4.41842294e+01, 5.63020194e+01,\n",
              "        2.37192629e+01, 5.66153193e+01, 8.04933444e+00, 4.32649523e+01,\n",
              "        4.77626817e+01, 1.13189084e+00, 1.00556031e+01, 4.79914178e+01,\n",
              "        1.55584411e+01, 1.11409284e+01, 5.88914987e+01, 2.52339274e+01],\n",
              "       [3.26268309e+01, 1.19676075e+00, 2.09416373e+01, 3.22425083e+01,\n",
              "        1.38916546e+01, 2.34239237e+00, 2.37568109e+01, 3.02722589e+01,\n",
              "        1.27532845e+01, 3.04407128e+01, 4.32793599e+00, 2.32625375e+01,\n",
              "        2.56808598e+01, 6.08590829e-01, 5.40665898e+00, 2.58038458e+01,\n",
              "        8.36540433e+00, 5.99021266e+00, 3.16645604e+01, 1.35676836e+01],\n",
              "       [8.22895578e+01, 3.01840265e+00, 5.28178197e+01, 8.13202411e+01,\n",
              "        3.50367499e+01, 5.90785030e+00, 5.99180924e+01, 7.63509889e+01,\n",
              "        3.21656168e+01, 7.67758539e+01, 1.09156767e+01, 5.86714637e+01,\n",
              "        6.47708202e+01, 1.53495356e+00, 1.36363712e+01, 6.50810086e+01,\n",
              "        2.10987523e+01, 1.51081775e+01, 7.98625734e+01, 3.42196484e+01],\n",
              "       [2.32882436e+01, 8.54218907e-01, 1.49476347e+01, 2.30139234e+01,\n",
              "        9.91552741e+00, 1.67194308e+00, 1.69570377e+01, 2.16076070e+01,\n",
              "        9.10298630e+00, 2.17278453e+01, 3.08917614e+00, 1.66042372e+01,\n",
              "        1.83303772e+01, 4.34397430e-01, 3.85914255e+00, 1.84181617e+01,\n",
              "        5.97102349e+00, 4.27566906e+00, 2.26013982e+01, 9.68428471e+00],\n",
              "       [5.50442513e+01, 2.01903763e+00, 3.53303313e+01, 5.43958663e+01,\n",
              "        2.34364082e+01, 3.95181606e+00, 4.00797698e+01, 5.10718872e+01,\n",
              "        2.15158805e+01, 5.13560834e+01, 7.30159779e+00, 3.92458883e+01,\n",
              "        4.33258047e+01, 1.02674473e+00, 9.12149565e+00, 4.35332925e+01,\n",
              "        1.41131518e+01, 1.01060006e+01, 5.34208188e+01, 2.28898414e+01],\n",
              "       [2.51508956e+01, 9.22541474e-01, 1.61431840e+01, 2.48546346e+01,\n",
              "        1.07085961e+01, 1.80566927e+00, 1.83133040e+01, 2.33358375e+01,\n",
              "        9.83106594e+00, 2.34656928e+01, 3.33625618e+00, 1.79322857e+01,\n",
              "        1.97964867e+01, 4.69141624e-01, 4.16780644e+00, 1.98912924e+01,\n",
              "        6.44860090e+00, 4.61764778e+00, 2.44091146e+01, 1.04588581e+01],\n",
              "       [7.69849508e+01, 2.82382827e+00, 4.94130405e+01, 7.60781188e+01,\n",
              "        3.27781864e+01, 5.52701432e+00, 5.60556105e+01, 7.14291980e+01,\n",
              "        3.00921343e+01, 7.18266751e+01, 1.02120228e+01, 5.48893428e+01,\n",
              "        6.05955184e+01, 1.43600631e+00, 1.27573339e+01, 6.08857111e+01,\n",
              "        1.97386698e+01, 1.41342636e+01, 7.47144164e+01, 3.20137575e+01],\n",
              "       [2.30312519e+01, 8.44792384e-01, 1.47826838e+01, 2.27599589e+01,\n",
              "        9.80610704e+00, 1.65349276e+00, 1.67699124e+01, 2.13691616e+01,\n",
              "        9.00253254e+00, 2.14880730e+01, 3.05508630e+00, 1.64210052e+01,\n",
              "        1.81280969e+01, 4.29603744e-01, 3.81655593e+00, 1.82149126e+01,\n",
              "        5.90513173e+00, 4.22848597e+00, 2.23519860e+01, 9.57741617e+00],\n",
              "       [6.53631132e+01, 2.39753620e+00, 4.19535263e+01, 6.45931788e+01,\n",
              "        2.78299108e+01, 4.69264264e+00, 4.75933176e+01, 6.06460705e+01,\n",
              "        2.55493516e+01, 6.09835435e+01, 8.67039067e+00, 4.66031125e+01,\n",
              "        5.14478698e+01, 1.21922327e+00, 1.08314554e+01, 5.16942543e+01,\n",
              "        1.67588716e+01, 1.20005204e+01, 6.34353442e+01, 2.71808819e+01],\n",
              "       [4.83300635e+01, 1.77275946e+00, 3.10208081e+01, 4.77607672e+01,\n",
              "        2.05776819e+01, 3.46978144e+00, 3.51909196e+01, 4.48422405e+01,\n",
              "        1.88914164e+01, 4.50917710e+01, 6.41096348e+00, 3.44587532e+01,\n",
              "        3.80410096e+01, 9.01504457e-01, 8.00887383e+00, 3.82231885e+01,\n",
              "        1.23916578e+01, 8.87329080e+00, 4.69046541e+01, 2.00977843e+01],\n",
              "       [3.72457058e+01, 1.36618230e+00, 2.39062771e+01, 3.68069760e+01,\n",
              "        1.58582512e+01, 2.67399729e+00, 2.71199859e+01, 3.45578047e+01,\n",
              "        1.45587257e+01, 3.47501061e+01, 4.94062789e+00, 2.65557397e+01,\n",
              "        2.93164161e+01, 6.94747065e-01, 6.17206221e+00, 2.94568128e+01,\n",
              "        9.54966758e+00, 6.83822769e+00, 3.61472099e+01, 1.54884167e+01],\n",
              "       [1.48528305e+01, 5.44805735e-01, 9.53333747e+00, 1.46778740e+01,\n",
              "        6.32394829e+00, 1.06633577e+00, 1.08148992e+01, 1.37809502e+01,\n",
              "        5.80572392e+00, 1.38576361e+01, 1.97022199e+00, 1.05898893e+01,\n",
              "        1.16907909e+01, 2.77051010e-01, 2.46129297e+00, 1.17467783e+01,\n",
              "        3.80821335e+00, 2.72694623e+00, 1.44147727e+01, 6.17646579e+00],\n",
              "       [4.63877008e+00, 1.70151308e-01, 2.97740963e+00, 4.58412843e+00,\n",
              "        1.97506745e+00, 3.33033254e-01, 3.37766129e+00, 4.30400517e+00,\n",
              "        1.81321792e+00, 4.32795537e+00, 6.15330985e-01, 3.30738720e+00,\n",
              "        3.65121591e+00, 8.65273413e-02, 7.68700093e-01, 3.66870163e+00,\n",
              "        1.18936428e+00, 8.51667738e-01, 4.50195779e+00, 1.92900637e+00],\n",
              "       [9.36261203e+00, 3.43423075e-01, 6.00942292e+00, 9.25232664e+00,\n",
              "        3.98635629e+00, 6.72174110e-01, 6.81726659e+00, 8.68694286e+00,\n",
              "        3.65968901e+00, 8.73528249e+00, 1.24194672e+00, 6.67542962e+00,\n",
              "        7.36939263e+00, 1.74641535e-01, 1.55149762e+00, 7.40468475e+00,\n",
              "        2.40054070e+00, 1.71895448e+00, 9.08647842e+00, 3.89338940e+00],\n",
              "       [7.33999812e+01, 2.69233064e+00, 4.71120161e+01, 7.25353778e+01,\n",
              "        3.12517998e+01, 5.26963703e+00, 5.34452605e+01, 6.81029440e+01,\n",
              "        2.86908294e+01, 6.84819117e+01, 9.73647798e+00, 5.23333026e+01,\n",
              "        5.77737579e+01, 1.36913559e+00, 1.21632613e+01, 5.80504372e+01,\n",
              "        1.88194962e+01, 1.34760712e+01, 7.12351791e+01, 3.05229681e+01],\n",
              "       [3.94636988e+01, 1.44753887e+00, 2.53299032e+01, 3.89988425e+01,\n",
              "        1.68026149e+01, 2.83323463e+00, 2.87349892e+01, 3.66157324e+01,\n",
              "        1.54257022e+01, 3.68194854e+01, 5.23484378e+00, 2.81371420e+01,\n",
              "        3.10622175e+01, 7.36119463e-01, 6.53961038e+00, 3.12109749e+01,\n",
              "        1.01183532e+01, 7.24544622e+00, 3.82997871e+01, 1.64107565e+01],\n",
              "       [5.05625805e+01, 1.85464877e+00, 3.24537564e+01, 4.99669866e+01,\n",
              "        2.15282295e+01, 3.63006151e+00, 3.68164984e+01, 4.69136440e+01,\n",
              "        1.97640701e+01, 4.71747011e+01, 6.70710596e+00, 3.60505110e+01,\n",
              "        3.97982430e+01, 9.43147771e-01, 8.37882880e+00, 3.99888373e+01,\n",
              "        1.29640673e+01, 9.28317589e+00, 4.90713270e+01, 2.10261639e+01],\n",
              "       [7.08961365e+01, 2.60048896e+00, 4.55049153e+01, 7.00610268e+01,\n",
              "        3.01857280e+01, 5.08987741e+00, 5.16221180e+01, 6.57797937e+01,\n",
              "        2.77121183e+01, 6.61458339e+01, 9.40434399e+00, 5.05480916e+01,\n",
              "        5.58029602e+01, 1.32243118e+00, 1.17483440e+01, 5.60702013e+01,\n",
              "        1.81775193e+01, 1.30163710e+01, 6.88051809e+01, 2.94817585e+01],\n",
              "       [1.58341992e+01, 5.80802598e-01, 1.01632322e+01, 1.56476828e+01,\n",
              "        6.74178952e+00, 1.13679161e+00, 1.15294703e+01, 1.46914967e+01,\n",
              "        6.18932460e+00, 1.47732495e+01, 2.10040016e+00, 1.12895934e+01,\n",
              "        1.24632347e+01, 2.95356558e-01, 2.62391759e+00, 1.25229213e+01,\n",
              "        4.05983283e+00, 2.90712331e+00, 1.53671976e+01, 6.58456243e+00]])"
            ]
          },
          "metadata": {},
          "execution_count": 76
        }
      ],
      "source": [
        "A = np.random.uniform(0, 10, 20)\n",
        "B = np.random.uniform(0, 10, 20)\n",
        "np.einsum('i->', A)       # np.sum(A)\n",
        "np.einsum('i,i->i', A, B) # A * B\n",
        "np.einsum('i,i', A, B)    # np.inner(A, B)\n",
        "np.einsum('i,j->ij', A, B)    # np.outer(A, B)"
      ]
    },
    {
      "cell_type": "markdown",
      "id": "239d18fe",
      "metadata": {
        "id": "239d18fe"
      },
      "source": [
        "98. Considering a path described by two vectors (X,Y), how to sample it using equidistant samples (★★★)?"
      ]
    },
    {
      "cell_type": "code",
      "execution_count": null,
      "id": "4f951b56",
      "metadata": {
        "colab": {
          "base_uri": "https://localhost:8080/"
        },
        "id": "4f951b56",
        "outputId": "dd8886d2-b445-488c-fe3b-3dc70fda29d1"
      },
      "outputs": [
        {
          "output_type": "stream",
          "name": "stdout",
          "text": [
            "[[0.02188749 0.17760236]\n",
            " [0.75604919 0.04046736]\n",
            " [0.37564432 0.45765763]\n",
            " [0.42037893 0.36171712]\n",
            " [0.40739604 0.05165135]\n",
            " [0.65619469 0.11251789]\n",
            " [0.81189443 0.33985276]\n",
            " [0.71417423 0.82339902]\n",
            " [0.4768451  0.75507645]\n",
            " [0.7718541  0.39485653]\n",
            " [0.49726596 0.50611885]\n",
            " [0.46138973 0.69634542]\n",
            " [0.82354474 0.18596892]\n",
            " [0.78509729 0.50196902]\n",
            " [0.36456804 0.73566536]\n",
            " [0.76079738 0.54147775]\n",
            " [0.66342647 0.83951258]\n",
            " [0.24729853 0.74134805]\n",
            " [0.6708716  0.20029378]\n",
            " [0.03834031 0.32158424]]\n"
          ]
        }
      ],
      "source": [
        "import numpy as np\n",
        "X = np.random.rand(100)\n",
        "Y = np.random.rand(100)\n",
        "\n",
        "path_length = np.cumsum(np.sqrt(np.diff(X)**2 + np.diff(Y)**2))\n",
        "path_length = np.insert(path_length, 0, 0)\n",
        "\n",
        "num_samples = 20\n",
        "\n",
        "samples = np.linspace(0, path_length[-1], num_samples)\n",
        "\n",
        "x_samples = np.interp(samples, path_length, X)\n",
        "y_samples = np.interp(samples, path_length, Y)\n",
        "\n",
        "print(np.column_stack((x_samples, y_samples)))"
      ]
    },
    {
      "cell_type": "markdown",
      "id": "d1daa2fe",
      "metadata": {
        "id": "d1daa2fe"
      },
      "source": [
        "99. Given an integer n and a 2D array X, select from X the rows which can be interpreted as draws from a multinomial distribution with n degrees, i.e., the rows which only contain integers and which sum to n. (★★★)"
      ]
    },
    {
      "cell_type": "code",
      "execution_count": null,
      "id": "aa7df1f6",
      "metadata": {
        "id": "aa7df1f6",
        "outputId": "4e070191-18bf-4dcd-ae2e-833ab3b3225f"
      },
      "outputs": [
        {
          "name": "stdout",
          "output_type": "stream",
          "text": [
            "[[2. 0. 1. 1.]]\n"
          ]
        }
      ],
      "source": [
        "X = np.asarray([[1.0, 0.0, 3.0, 8.0],\n",
        "                [2.0, 0.0, 1.0, 1.0],\n",
        "                [1.5, 2.5, 1.0, 0.0]])\n",
        "n = 4\n",
        "M = np.logical_and.reduce(np.mod(X, 1) == 0, axis=-1)\n",
        "M &= (X.sum(axis=-1) == n)\n",
        "print(X[M])"
      ]
    },
    {
      "cell_type": "markdown",
      "id": "5ca6295d",
      "metadata": {
        "id": "5ca6295d"
      },
      "source": [
        "100. Compute bootstrapped 95% confidence intervals for the mean of a 1D array X (i.e., resample the elements of an array with replacement N times, compute the mean of each sample, and then compute percentiles over the means). (★★★)"
      ]
    },
    {
      "cell_type": "code",
      "execution_count": null,
      "id": "c58079ca",
      "metadata": {
        "colab": {
          "base_uri": "https://localhost:8080/"
        },
        "id": "c58079ca",
        "outputId": "94b56e03-fc2d-4f26-b297-f0e164516219"
      },
      "outputs": [
        {
          "output_type": "stream",
          "name": "stdout",
          "text": [
            "[-0.32757408  0.04103696]\n"
          ]
        }
      ],
      "source": [
        "X = np.random.randn(100)\n",
        "N = 1000 # number of bootstrap samples\n",
        "idx = np.random.randint(0, X.size, (N, X.size))\n",
        "means = X[idx].mean(axis=1)\n",
        "confint = np.percentile(means, [2.5, 97.5])\n",
        "print(confint)"
      ]
    }
  ],
  "metadata": {
    "kernelspec": {
      "display_name": "Python 3 (ipykernel)",
      "language": "python",
      "name": "python3"
    },
    "language_info": {
      "codemirror_mode": {
        "name": "ipython",
        "version": 3
      },
      "file_extension": ".py",
      "mimetype": "text/x-python",
      "name": "python",
      "nbconvert_exporter": "python",
      "pygments_lexer": "ipython3",
      "version": "3.9.12"
    },
    "colab": {
      "provenance": []
    }
  },
  "nbformat": 4,
  "nbformat_minor": 5
}